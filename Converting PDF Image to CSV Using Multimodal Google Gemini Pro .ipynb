{
 "cells": [
  {
   "cell_type": "markdown",
   "id": "a33271c4",
   "metadata": {},
   "source": [
    "## Detailed Article Explaination\n",
    "\n",
    "The detailed code explanation for this article is available at the following link:\n",
    "\n",
    "https://www.daniweb.com/programming/computer-science/tutorials/541365/converting-pdf-image-to-csv-using-multimodal-google-gemini-pro\n",
    "    \n",
    "For my other articles for Daniweb.com, please see this link:\n",
    "\n",
    "https://www.daniweb.com/members/1235222/usmanmalik57\n",
    "\n"
   ]
  },
  {
   "cell_type": "markdown",
   "id": "e39aae7d",
   "metadata": {},
   "source": [
    "## Installing and Importing Required Libraries "
   ]
  },
  {
   "cell_type": "code",
   "execution_count": null,
   "id": "80127ea9",
   "metadata": {},
   "outputs": [],
   "source": [
    "## !pip install --upgrade google-cloud-aiplatform"
   ]
  },
  {
   "cell_type": "code",
   "execution_count": 1,
   "id": "a81c9ee9",
   "metadata": {},
   "outputs": [],
   "source": [
    "import base64\n",
    "import glob\n",
    "import csv\n",
    "import os\n",
    "import re\n",
    "from vertexai.preview.generative_models import GenerativeModel, Part"
   ]
  },
  {
   "cell_type": "markdown",
   "id": "2f03884c",
   "metadata": {},
   "source": [
    "## Defining Helper Functions for Image Processing"
   ]
  },
  {
   "cell_type": "code",
   "execution_count": 9,
   "id": "08c5d003",
   "metadata": {},
   "outputs": [],
   "source": [
    "def get_jpg_file_paths(directory):\n",
    "\n",
    "    jpg_file_paths = glob.glob(os.path.join(directory, '**', '*.jpg'), recursive=True)\n",
    "    return [os.path.abspath(path) for path in jpg_file_paths]"
   ]
  },
  {
   "cell_type": "code",
   "execution_count": 10,
   "id": "1f27a8a1",
   "metadata": {},
   "outputs": [],
   "source": [
    "def read_image(img_paths):\n",
    "\n",
    "    imgs_b64 = []\n",
    "    for img in img_paths: \n",
    "        with open(img, \"rb\") as f: # open the image file in binary mode\n",
    "            img_data = f.read() # read the image data as bytes\n",
    "            img_b64 = base64.b64encode(img_data) # encode the bytes as base64\n",
    "            img_b64 = img_b64.decode() # convert the base64 bytes to a string\n",
    "            img_b64 = Part.from_data(data=img_b64, mime_type=\"image/jpeg\") \n",
    "            \n",
    "            imgs_b64.append(img_b64)\n",
    "\n",
    "    return imgs_b64"
   ]
  },
  {
   "cell_type": "markdown",
   "id": "8b45fbba",
   "metadata": {},
   "source": [
    "## Extracting information from PDF Using Google Gemini Pro"
   ]
  },
  {
   "cell_type": "code",
   "execution_count": 11,
   "id": "3e906817",
   "metadata": {},
   "outputs": [],
   "source": [
    "os.environ['GOOGLE_APPLICATION_CREDENTIALS'] = r\"PATH_TO_VERTEX_AI_SERVICE_ACCOUNT JSON FILE\"\n",
    "\n",
    "model = GenerativeModel(\"gemini-pro-vision\")\n",
    "config={\n",
    "    \"max_output_tokens\": 2048,\n",
    "    \"temperature\": 0,\n",
    "    \"top_p\": 1,\n",
    "    \"top_k\": 32\n",
    "}"
   ]
  },
  {
   "cell_type": "code",
   "execution_count": 12,
   "id": "8f3e6e22",
   "metadata": {},
   "outputs": [],
   "source": [
    "def generate(img, prompt):\n",
    "    \n",
    "\n",
    "    input = img + [prompt]\n",
    "\n",
    "    responses = model.generate_content(    \n",
    "        input,\n",
    "        generation_config= config,\n",
    "        stream=True,\n",
    "    )\n",
    "    full_response = \"\"\n",
    "\n",
    "    for response in responses:\n",
    "        full_response += response.text\n",
    "\n",
    "    return full_response"
   ]
  },
  {
   "cell_type": "code",
   "execution_count": 13,
   "id": "7eb77bda",
   "metadata": {},
   "outputs": [],
   "source": [
    "directory_path = r'D:\\\\Receipts\\\\'\n",
    "image_paths = get_jpg_file_paths(directory_path)\n",
    "imgs_b64 = read_image(image_paths)\n"
   ]
  },
  {
   "cell_type": "code",
   "execution_count": 14,
   "id": "9fa4bf53",
   "metadata": {},
   "outputs": [],
   "source": [
    "prompt = \"\"\"I have the above receipts. Return a response that contains information from the receipts in a comma-separated file format where row fields are table columns, \n",
    "whereas row values are column values. The output should contain (header + number of recept rows). \n",
    "The first row should contain all column headers, and the remaining rows should contain all column values from two recepts one in each row.  \n",
    "Must use all field values in the receipt. \"\"\"\n"
   ]
  },
  {
   "cell_type": "code",
   "execution_count": 15,
   "id": "359e3a1a",
   "metadata": {},
   "outputs": [],
   "source": [
    "full_response = generate(imgs_b64, prompt)"
   ]
  },
  {
   "cell_type": "code",
   "execution_count": 16,
   "id": "631b67e0",
   "metadata": {},
   "outputs": [
    {
     "name": "stdout",
     "output_type": "stream",
     "text": [
      " **Numéro de session,Date,Heure,Pass Easy n°,Fin de validité,Type,Quantité,Prix Unitaire,TVA,Montant total HT,Montant total TTC**\n",
      "1,16/01/2024,09:32:32,3307837143,30/09/2023,Carnet de Ticket t+,10,17,35 €,10,00 %,15,77 €,17,35 €\n",
      "1,16/01/2024,09:32:32,3307837143,30/09/2023,Carnet de Ticket t+,10,17,35 €,10,00 %,15,77 €,17,35 €\n"
     ]
    }
   ],
   "source": [
    "print(full_response)"
   ]
  },
  {
   "cell_type": "markdown",
   "id": "60fbd1d0",
   "metadata": {},
   "source": [
    "## Converting Google Gemini Pro Response to a CSV File "
   ]
  },
  {
   "cell_type": "code",
   "execution_count": 18,
   "id": "d1915a75",
   "metadata": {},
   "outputs": [],
   "source": [
    "\n",
    "lines = full_response.strip().split('\\n')\n",
    "\n",
    "\n",
    "def process_line(line):\n",
    " \n",
    "    special_patterns = re.compile(r'\\d+,\\d+\\s[€%]')\n",
    "\n",
    "    temp_replacement = \"TEMP_CURRENCY\"\n",
    "\n",
    "    currency_matches = special_patterns.findall(line)\n",
    "\n",
    "    for match in currency_matches:\n",
    "        line = line.replace(match, temp_replacement, 1)\n",
    "\n",
    "    parts = line.split(',')\n",
    "\n",
    "    for i, part in enumerate(parts):\n",
    "        if temp_replacement in part:\n",
    "            parts[i] = currency_matches.pop(0) \n",
    "\n",
    "    return parts"
   ]
  },
  {
   "cell_type": "code",
   "execution_count": 19,
   "id": "513f4d11",
   "metadata": {},
   "outputs": [],
   "source": [
    "csv_file_path = r'D:\\\\Receipts\\\\receipts.csv'  \n",
    "\n",
    "# Open the CSV file for writing\n",
    "with open(csv_file_path, mode='w', newline='', encoding='utf-8') as csv_file:\n",
    "    writer = csv.writer(csv_file)\n",
    "    \n",
    "    # Process each line in the data list\n",
    "    for line in lines:\n",
    "        processed_line = process_line(line)\n",
    "        writer.writerow(processed_line)"
   ]
  },
  {
   "cell_type": "code",
   "execution_count": null,
   "id": "a86bf2cf",
   "metadata": {},
   "outputs": [],
   "source": []
  }
 ],
 "metadata": {
  "kernelspec": {
   "display_name": "Python 3 (ipykernel)",
   "language": "python",
   "name": "python3"
  },
  "language_info": {
   "codemirror_mode": {
    "name": "ipython",
    "version": 3
   },
   "file_extension": ".py",
   "mimetype": "text/x-python",
   "name": "python",
   "nbconvert_exporter": "python",
   "pygments_lexer": "ipython3",
   "version": "3.11.5"
  }
 },
 "nbformat": 4,
 "nbformat_minor": 5
}
