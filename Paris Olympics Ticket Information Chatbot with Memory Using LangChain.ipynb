{
 "cells": [
  {
   "cell_type": "markdown",
   "id": "41f762f9",
   "metadata": {},
   "source": [
    "## Detailed Article Explaination\n",
    "\n",
    "The detailed code explanation for this article is available at the following link:\n",
    "\n",
    "https://www.daniweb.com/programming/computer-science/tutorials/541732/paris-olympics-ticket-information-chatbot-with-memory-using-langchain\n",
    "\n",
    "For my other articles for Daniweb.com, please see this link:\n",
    "\n",
    "https://www.daniweb.com/members/1235222/usmanmalik57"
   ]
  },
  {
   "cell_type": "markdown",
   "id": "ce6995ed",
   "metadata": {},
   "source": [
    "## Installing and Importing Required Libraries"
   ]
  },
  {
   "cell_type": "code",
   "execution_count": 1,
   "id": "f2948ebe",
   "metadata": {},
   "outputs": [
    {
     "name": "stdout",
     "output_type": "stream",
     "text": [
      "Requirement already satisfied: langchain in c:\\users\\chetouani\\anaconda3\\lib\\site-packages (0.1.12)\n",
      "Requirement already satisfied: PyYAML>=5.3 in c:\\users\\chetouani\\anaconda3\\lib\\site-packages (from langchain) (6.0.1)\n",
      "Requirement already satisfied: SQLAlchemy<3,>=1.4 in c:\\users\\chetouani\\anaconda3\\lib\\site-packages (from langchain) (2.0.25)\n",
      "Requirement already satisfied: aiohttp<4.0.0,>=3.8.3 in c:\\users\\chetouani\\anaconda3\\lib\\site-packages (from langchain) (3.9.0)\n",
      "Requirement already satisfied: dataclasses-json<0.7,>=0.5.7 in c:\\users\\chetouani\\anaconda3\\lib\\site-packages (from langchain) (0.6.4)\n",
      "Requirement already satisfied: jsonpatch<2.0,>=1.33 in c:\\users\\chetouani\\anaconda3\\lib\\site-packages (from langchain) (1.33)\n",
      "Requirement already satisfied: langchain-community<0.1,>=0.0.28 in c:\\users\\chetouani\\anaconda3\\lib\\site-packages (from langchain) (0.0.28)\n",
      "Requirement already satisfied: langchain-core<0.2.0,>=0.1.31 in c:\\users\\chetouani\\anaconda3\\lib\\site-packages (from langchain) (0.1.32)\n",
      "Requirement already satisfied: langchain-text-splitters<0.1,>=0.0.1 in c:\\users\\chetouani\\anaconda3\\lib\\site-packages (from langchain) (0.0.1)\n",
      "Requirement already satisfied: langsmith<0.2.0,>=0.1.17 in c:\\users\\chetouani\\anaconda3\\lib\\site-packages (from langchain) (0.1.27)\n",
      "Requirement already satisfied: numpy<2,>=1 in c:\\users\\chetouani\\anaconda3\\lib\\site-packages (from langchain) (1.26.3)\n",
      "Requirement already satisfied: pydantic<3,>=1 in c:\\users\\chetouani\\anaconda3\\lib\\site-packages (from langchain) (1.10.12)\n",
      "Requirement already satisfied: requests<3,>=2 in c:\\users\\chetouani\\anaconda3\\lib\\site-packages (from langchain) (2.31.0)\n",
      "Requirement already satisfied: tenacity<9.0.0,>=8.1.0 in c:\\users\\chetouani\\anaconda3\\lib\\site-packages (from langchain) (8.2.2)\n",
      "Requirement already satisfied: attrs>=17.3.0 in c:\\users\\chetouani\\anaconda3\\lib\\site-packages (from aiohttp<4.0.0,>=3.8.3->langchain) (23.1.0)\n",
      "Requirement already satisfied: multidict<7.0,>=4.5 in c:\\users\\chetouani\\anaconda3\\lib\\site-packages (from aiohttp<4.0.0,>=3.8.3->langchain) (6.0.4)\n",
      "Requirement already satisfied: yarl<2.0,>=1.0 in c:\\users\\chetouani\\anaconda3\\lib\\site-packages (from aiohttp<4.0.0,>=3.8.3->langchain) (1.9.3)\n",
      "Requirement already satisfied: frozenlist>=1.1.1 in c:\\users\\chetouani\\anaconda3\\lib\\site-packages (from aiohttp<4.0.0,>=3.8.3->langchain) (1.4.0)\n",
      "Requirement already satisfied: aiosignal>=1.1.2 in c:\\users\\chetouani\\anaconda3\\lib\\site-packages (from aiohttp<4.0.0,>=3.8.3->langchain) (1.2.0)\n",
      "Requirement already satisfied: marshmallow<4.0.0,>=3.18.0 in c:\\users\\chetouani\\anaconda3\\lib\\site-packages (from dataclasses-json<0.7,>=0.5.7->langchain) (3.21.1)\n",
      "Requirement already satisfied: typing-inspect<1,>=0.4.0 in c:\\users\\chetouani\\anaconda3\\lib\\site-packages (from dataclasses-json<0.7,>=0.5.7->langchain) (0.9.0)\n",
      "Requirement already satisfied: jsonpointer>=1.9 in c:\\users\\chetouani\\anaconda3\\lib\\site-packages (from jsonpatch<2.0,>=1.33->langchain) (2.1)\n",
      "Requirement already satisfied: anyio<5,>=3 in c:\\users\\chetouani\\anaconda3\\lib\\site-packages (from langchain-core<0.2.0,>=0.1.31->langchain) (3.5.0)\n",
      "Requirement already satisfied: packaging<24.0,>=23.2 in c:\\users\\chetouani\\anaconda3\\lib\\site-packages (from langchain-core<0.2.0,>=0.1.31->langchain) (23.2)\n",
      "Requirement already satisfied: orjson<4.0.0,>=3.9.14 in c:\\users\\chetouani\\anaconda3\\lib\\site-packages (from langsmith<0.2.0,>=0.1.17->langchain) (3.9.15)\n",
      "Requirement already satisfied: typing-extensions>=4.2.0 in c:\\users\\chetouani\\anaconda3\\lib\\site-packages (from pydantic<3,>=1->langchain) (4.9.0)\n",
      "Requirement already satisfied: charset-normalizer<4,>=2 in c:\\users\\chetouani\\anaconda3\\lib\\site-packages (from requests<3,>=2->langchain) (2.0.4)\n",
      "Requirement already satisfied: idna<4,>=2.5 in c:\\users\\chetouani\\anaconda3\\lib\\site-packages (from requests<3,>=2->langchain) (3.4)\n",
      "Requirement already satisfied: urllib3<3,>=1.21.1 in c:\\users\\chetouani\\anaconda3\\lib\\site-packages (from requests<3,>=2->langchain) (1.26.18)\n",
      "Requirement already satisfied: certifi>=2017.4.17 in c:\\users\\chetouani\\anaconda3\\lib\\site-packages (from requests<3,>=2->langchain) (2024.2.2)\n",
      "Requirement already satisfied: greenlet!=0.4.17 in c:\\users\\chetouani\\anaconda3\\lib\\site-packages (from SQLAlchemy<3,>=1.4->langchain) (3.0.1)\n",
      "Requirement already satisfied: sniffio>=1.1 in c:\\users\\chetouani\\anaconda3\\lib\\site-packages (from anyio<5,>=3->langchain-core<0.2.0,>=0.1.31->langchain) (1.3.0)\n",
      "Requirement already satisfied: mypy-extensions>=0.3.0 in c:\\users\\chetouani\\anaconda3\\lib\\site-packages (from typing-inspect<1,>=0.4.0->dataclasses-json<0.7,>=0.5.7->langchain) (1.0.0)\n",
      "Requirement already satisfied: langchain-openai in c:\\users\\chetouani\\anaconda3\\lib\\site-packages (0.0.8)\n",
      "Requirement already satisfied: langchain-core<0.2.0,>=0.1.27 in c:\\users\\chetouani\\anaconda3\\lib\\site-packages (from langchain-openai) (0.1.32)\n",
      "Requirement already satisfied: openai<2.0.0,>=1.10.0 in c:\\users\\chetouani\\anaconda3\\lib\\site-packages (from langchain-openai) (1.14.1)\n",
      "Requirement already satisfied: tiktoken<1,>=0.5.2 in c:\\users\\chetouani\\anaconda3\\lib\\site-packages (from langchain-openai) (0.6.0)\n",
      "Requirement already satisfied: PyYAML>=5.3 in c:\\users\\chetouani\\anaconda3\\lib\\site-packages (from langchain-core<0.2.0,>=0.1.27->langchain-openai) (6.0.1)\n",
      "Requirement already satisfied: anyio<5,>=3 in c:\\users\\chetouani\\anaconda3\\lib\\site-packages (from langchain-core<0.2.0,>=0.1.27->langchain-openai) (3.5.0)\n",
      "Requirement already satisfied: jsonpatch<2.0,>=1.33 in c:\\users\\chetouani\\anaconda3\\lib\\site-packages (from langchain-core<0.2.0,>=0.1.27->langchain-openai) (1.33)\n",
      "Requirement already satisfied: langsmith<0.2.0,>=0.1.0 in c:\\users\\chetouani\\anaconda3\\lib\\site-packages (from langchain-core<0.2.0,>=0.1.27->langchain-openai) (0.1.27)\n",
      "Requirement already satisfied: packaging<24.0,>=23.2 in c:\\users\\chetouani\\anaconda3\\lib\\site-packages (from langchain-core<0.2.0,>=0.1.27->langchain-openai) (23.2)\n",
      "Requirement already satisfied: pydantic<3,>=1 in c:\\users\\chetouani\\anaconda3\\lib\\site-packages (from langchain-core<0.2.0,>=0.1.27->langchain-openai) (1.10.12)\n",
      "Requirement already satisfied: requests<3,>=2 in c:\\users\\chetouani\\anaconda3\\lib\\site-packages (from langchain-core<0.2.0,>=0.1.27->langchain-openai) (2.31.0)\n",
      "Requirement already satisfied: tenacity<9.0.0,>=8.1.0 in c:\\users\\chetouani\\anaconda3\\lib\\site-packages (from langchain-core<0.2.0,>=0.1.27->langchain-openai) (8.2.2)\n",
      "Requirement already satisfied: distro<2,>=1.7.0 in c:\\users\\chetouani\\anaconda3\\lib\\site-packages (from openai<2.0.0,>=1.10.0->langchain-openai) (1.9.0)\n",
      "Requirement already satisfied: httpx<1,>=0.23.0 in c:\\users\\chetouani\\anaconda3\\lib\\site-packages (from openai<2.0.0,>=1.10.0->langchain-openai) (0.26.0)\n",
      "Requirement already satisfied: sniffio in c:\\users\\chetouani\\anaconda3\\lib\\site-packages (from openai<2.0.0,>=1.10.0->langchain-openai) (1.3.0)\n",
      "Requirement already satisfied: tqdm>4 in c:\\users\\chetouani\\anaconda3\\lib\\site-packages (from openai<2.0.0,>=1.10.0->langchain-openai) (4.65.0)\n",
      "Requirement already satisfied: typing-extensions<5,>=4.7 in c:\\users\\chetouani\\anaconda3\\lib\\site-packages (from openai<2.0.0,>=1.10.0->langchain-openai) (4.9.0)\n",
      "Requirement already satisfied: regex>=2022.1.18 in c:\\users\\chetouani\\anaconda3\\lib\\site-packages (from tiktoken<1,>=0.5.2->langchain-openai) (2023.10.3)\n",
      "Requirement already satisfied: idna>=2.8 in c:\\users\\chetouani\\anaconda3\\lib\\site-packages (from anyio<5,>=3->langchain-core<0.2.0,>=0.1.27->langchain-openai) (3.4)\n",
      "Requirement already satisfied: certifi in c:\\users\\chetouani\\anaconda3\\lib\\site-packages (from httpx<1,>=0.23.0->openai<2.0.0,>=1.10.0->langchain-openai) (2024.2.2)\n",
      "Requirement already satisfied: httpcore==1.* in c:\\users\\chetouani\\anaconda3\\lib\\site-packages (from httpx<1,>=0.23.0->openai<2.0.0,>=1.10.0->langchain-openai) (1.0.2)\n",
      "Requirement already satisfied: h11<0.15,>=0.13 in c:\\users\\chetouani\\anaconda3\\lib\\site-packages (from httpcore==1.*->httpx<1,>=0.23.0->openai<2.0.0,>=1.10.0->langchain-openai) (0.14.0)\n",
      "Requirement already satisfied: jsonpointer>=1.9 in c:\\users\\chetouani\\anaconda3\\lib\\site-packages (from jsonpatch<2.0,>=1.33->langchain-core<0.2.0,>=0.1.27->langchain-openai) (2.1)\n",
      "Requirement already satisfied: orjson<4.0.0,>=3.9.14 in c:\\users\\chetouani\\anaconda3\\lib\\site-packages (from langsmith<0.2.0,>=0.1.0->langchain-core<0.2.0,>=0.1.27->langchain-openai) (3.9.15)\n",
      "Requirement already satisfied: charset-normalizer<4,>=2 in c:\\users\\chetouani\\anaconda3\\lib\\site-packages (from requests<3,>=2->langchain-core<0.2.0,>=0.1.27->langchain-openai) (2.0.4)\n",
      "Requirement already satisfied: urllib3<3,>=1.21.1 in c:\\users\\chetouani\\anaconda3\\lib\\site-packages (from requests<3,>=2->langchain-core<0.2.0,>=0.1.27->langchain-openai) (1.26.18)\n",
      "Requirement already satisfied: colorama in c:\\users\\chetouani\\anaconda3\\lib\\site-packages (from tqdm>4->openai<2.0.0,>=1.10.0->langchain-openai) (0.4.6)\n",
      "Requirement already satisfied: pypdf in c:\\users\\chetouani\\anaconda3\\lib\\site-packages (4.1.0)\n",
      "Requirement already satisfied: faiss-cpu in c:\\users\\chetouani\\anaconda3\\lib\\site-packages (1.8.0)\n",
      "Requirement already satisfied: numpy in c:\\users\\chetouani\\anaconda3\\lib\\site-packages (from faiss-cpu) (1.26.3)\n"
     ]
    }
   ],
   "source": [
    "!pip install -U langchain\n",
    "!pip install langchain-openai\n",
    "!pip install pypdf\n",
    "!pip install faiss-cpu"
   ]
  },
  {
   "cell_type": "code",
   "execution_count": 1,
   "id": "6442fdf2",
   "metadata": {},
   "outputs": [],
   "source": [
    "from langchain_openai import ChatOpenAI\n",
    "from langchain_core.prompts import ChatPromptTemplate\n",
    "from langchain_core.output_parsers import StrOutputParser\n",
    "from langchain_community.document_loaders import PyPDFLoader\n",
    "from langchain.text_splitter import RecursiveCharacterTextSplitter\n",
    "from langchain_openai import OpenAIEmbeddings\n",
    "from langchain_community.vectorstores import FAISS\n",
    "from langchain.chains.combine_documents import create_stuff_documents_chain\n",
    "from langchain.chains import create_retrieval_chain\n",
    "from langchain_core.documents import Document\n",
    "from langchain.chains import create_history_aware_retriever\n",
    "from langchain_core.prompts import MessagesPlaceholder\n",
    "from langchain_core.messages import HumanMessage, AIMessage\n",
    "import os"
   ]
  },
  {
   "cell_type": "markdown",
   "id": "ef6771ba",
   "metadata": {},
   "source": [
    "## Paris Olympic Chatbot for Generating a Single Response"
   ]
  },
  {
   "cell_type": "code",
   "execution_count": 2,
   "id": "93395f66",
   "metadata": {},
   "outputs": [],
   "source": [
    "openai_key = os.environ.get('OPENAI_KEY2')"
   ]
  },
  {
   "cell_type": "code",
   "execution_count": 3,
   "id": "ca0629fc",
   "metadata": {},
   "outputs": [],
   "source": [
    "llm = ChatOpenAI(\n",
    "    openai_api_key = openai_key ,\n",
    "    model = 'gpt-4',\n",
    "    temperature = 0.5\n",
    ")"
   ]
  },
  {
   "cell_type": "code",
   "execution_count": 4,
   "id": "54aa3cc8",
   "metadata": {},
   "outputs": [],
   "source": [
    "loader = PyPDFLoader(\"https://tickets.paris2024.org/obj/media/FR-Paris2024/ticket-prices.pdf\")\n",
    "docs = loader.load_and_split()"
   ]
  },
  {
   "cell_type": "code",
   "execution_count": 5,
   "id": "dc3d1180",
   "metadata": {},
   "outputs": [],
   "source": [
    "embeddings = OpenAIEmbeddings(openai_api_key = openai_key)\n",
    "text_splitter = RecursiveCharacterTextSplitter()\n",
    "documents = text_splitter.split_documents(docs)\n",
    "vector = FAISS.from_documents(documents, embeddings)"
   ]
  },
  {
   "cell_type": "code",
   "execution_count": 7,
   "id": "70e80e3a",
   "metadata": {},
   "outputs": [],
   "source": [
    "from langchain.chains.combine_documents import create_stuff_documents_chain\n",
    "\n",
    "prompt = ChatPromptTemplate.from_template(\"\"\"Answer the following question based only on the provided context:\n",
    "\n",
    "Question: {input}\n",
    "\n",
    "Context: {context}\n",
    "\"\"\"\n",
    ")\n",
    "\n",
    "document_chain = create_stuff_documents_chain(llm, prompt)"
   ]
  },
  {
   "cell_type": "code",
   "execution_count": 8,
   "id": "77e7f939",
   "metadata": {},
   "outputs": [],
   "source": [
    "retriever = vector.as_retriever()\n",
    "retrieval_chain = create_retrieval_chain(retriever, document_chain)"
   ]
  },
  {
   "cell_type": "code",
   "execution_count": 9,
   "id": "27bb9588",
   "metadata": {},
   "outputs": [],
   "source": [
    "def generate_response(query):\n",
    "    response = retrieval_chain.invoke({\"input\": query})\n",
    "    print(response[\"answer\"])"
   ]
  },
  {
   "cell_type": "code",
   "execution_count": 10,
   "id": "ae485e82",
   "metadata": {},
   "outputs": [
    {
     "name": "stdout",
     "output_type": "stream",
     "text": [
      "The lowest ticket price for tennis games is €30.\n"
     ]
    }
   ],
   "source": [
    "query = \"What is the lowest ticket price for tennis games?\"\n",
    "generate_response(query)\n"
   ]
  },
  {
   "cell_type": "code",
   "execution_count": 11,
   "id": "e8112129",
   "metadata": {},
   "outputs": [
    {
     "name": "stdout",
     "output_type": "stream",
     "text": [
      "Beach Volleyball is played by two teams of two players each. They face off in the best of three sets on a sand court that is 16m long and 8m wide. The net is at the same height as indoor volleyball (2.24m for women and 2.43m for men). The game is contested by playing two sets to 21 points, and teams must win at least two points more than their opponents to win the set. If needed, the third set is played to 15 points. The matches take place at the Eiffel Tower Stadium in Paris.\n"
     ]
    }
   ],
   "source": [
    "query = \"And for beach volleyball?\"\n",
    "generate_response(query)"
   ]
  },
  {
   "cell_type": "code",
   "execution_count": 12,
   "id": "959ee994",
   "metadata": {},
   "outputs": [
    {
     "name": "stdout",
     "output_type": "stream",
     "text": [
      "The context does not provide specific information on the category of the ticket.\n"
     ]
    }
   ],
   "source": [
    "query = \"And what is the category of this ticket?\"\n",
    "generate_response(query)"
   ]
  },
  {
   "cell_type": "markdown",
   "id": "e729fadb",
   "metadata": {},
   "source": [
    "## Adding Memory to Paris Olympic Chatbot "
   ]
  },
  {
   "cell_type": "code",
   "execution_count": 13,
   "id": "8a5fd31a",
   "metadata": {},
   "outputs": [],
   "source": [
    "prompt = ChatPromptTemplate.from_messages([\n",
    "    MessagesPlaceholder(variable_name=\"chat_history\"),\n",
    "    (\"user\", \"{input}\"),\n",
    "    (\"user\", \"Given the above conversation, generate a search query to look up in order to get information relevant to the conversation\")\n",
    "])\n",
    "\n",
    "history_retriever_chain = create_history_aware_retriever(llm, retriever, prompt)"
   ]
  },
  {
   "cell_type": "code",
   "execution_count": 41,
   "id": "bf87f514",
   "metadata": {},
   "outputs": [
    {
     "data": {
      "text/plain": [
       "Document(page_content='BEACH VOLLEYBALL (CONTINUED)BEACH VOLLEYBALL (CONTINUED)\\nDATE TIMETYPE OF\\nSESSIONSESSION \\nDESCRIPTIONPRICE PER CATEGORY\\nFIRST A B C DSESSION\\nCODE\\nVBV33 06/08/245:00 pm\\n7:00 pmQualifications M/W - 1/4 Final ( 2 matches) € 200  € 145 € 95 € 50\\nVBV34 06/08/249:00 pm\\n11:00 pmQualifications M/W - 1/4 Final ( 2 matches) € 240  € 175 € 125 € 70\\nVBV35 07/08/245:00 pm\\n7:00 pmQualifications M/W - 1/4 Final ( 2 matches) € 200  € 145 € 95 € 50\\nVBV36 07/08/249:00 pm\\n11:00 pmQualifications M/W - 1/4 Final ( 2 matches) € 240  € 175 € 125 € 70\\nVBV37 08/08/245:00 pm\\n7:00 pmQualifications M/W - Semi-finals (2 matches) € 280 € 205 € 145 € 85\\nVBV38 08/08/249:00 pm\\n11:00 pmQualifications M/W - Semi-finals (2 matches) € 290 € 215 € 155 € 90\\nVBV39 09/08/249:00 pm\\n12:00 amMedals W - Bronze, Final € 420 € 305 € 205 € 100\\nVBV40 10/08/249:00 pm\\n12:00 amMedals M - Bronze, Final € 420 € 305 € 205 € 100\\n* Please refer to page 5 in this document for more information on accessible seating and wheelchair seating.   \\nFor the conditions of application and validity of the rates, please refer to page 95 of the present document.Categories where accessible \\nseating is available *\\n24', metadata={'source': 'https://tickets.paris2024.org/obj/media/FR-Paris2024/ticket-prices.pdf', 'page': 23})"
      ]
     },
     "execution_count": 41,
     "metadata": {},
     "output_type": "execute_result"
    }
   ],
   "source": [
    "chat_history = [\n",
    "    HumanMessage(content=\"What is the lowest ticket price for tennis games?\"), \n",
    "    AIMessage(content=\"The lowest ticket price for tennis games is €30.\")\n",
    "]\n",
    "\n",
    "result = history_retriever_chain.invoke({\n",
    "    \"chat_history\": chat_history,\n",
    "    \"input\": \"And for Beach Volleyball?\"\n",
    "})\n",
    "\n",
    "result[0]"
   ]
  },
  {
   "cell_type": "code",
   "execution_count": 40,
   "id": "2b0f6ceb",
   "metadata": {},
   "outputs": [],
   "source": [
    "prompt = ChatPromptTemplate.from_messages([\n",
    "    (\"system\", \"Answer the user's questions based on the below context:\\n\\n{context}\"),\n",
    "    MessagesPlaceholder(variable_name=\"chat_history\"),\n",
    "    (\"user\", \"{input}\")\n",
    "])\n",
    "document_chain = create_stuff_documents_chain(llm, prompt)"
   ]
  },
  {
   "cell_type": "code",
   "execution_count": 16,
   "id": "588cbbf1",
   "metadata": {},
   "outputs": [],
   "source": [
    "retrieval_chain = create_retrieval_chain(history_retriever_chain, document_chain)"
   ]
  },
  {
   "cell_type": "code",
   "execution_count": 42,
   "id": "3e607920",
   "metadata": {},
   "outputs": [
    {
     "name": "stdout",
     "output_type": "stream",
     "text": [
      "The lowest ticket price for Beach Volleyball games is €24.\n"
     ]
    }
   ],
   "source": [
    "result = retrieval_chain.invoke({\n",
    "    \"chat_history\": chat_history,\n",
    "    \"input\": \"And for Beach Volleyball?\"\n",
    "})\n",
    "\n",
    "print(result['answer'])"
   ]
  },
  {
   "cell_type": "markdown",
   "id": "f2d03d0f",
   "metadata": {},
   "source": [
    "## Putting it All Together - A Command Line Chatbot"
   ]
  },
  {
   "cell_type": "code",
   "execution_count": 28,
   "id": "afa255f6",
   "metadata": {},
   "outputs": [],
   "source": [
    "chat_history = []\n",
    "\n",
    "def generate_response_with_memory(query):\n",
    "    result = retrieval_chain.invoke({\n",
    "    \"chat_history\": chat_history,\n",
    "    \"input\": query\n",
    "    })\n",
    "\n",
    "    response = result['answer']\n",
    "    chat_history.extend([HumanMessage(content = query),\n",
    "                       AIMessage(content = response)])\n",
    "    \n",
    "    return response"
   ]
  },
  {
   "cell_type": "code",
   "execution_count": 37,
   "id": "4faf87a0",
   "metadata": {},
   "outputs": [
    {
     "name": "stdout",
     "output_type": "stream",
     "text": [
      "=======================================================================\n",
      "Welcome to Paris Olympics Ticket Information Chatbot. Enter your query\n",
      "=======================================================================\n",
      " User >>:What is the lowest ticket price for tennis games?\n",
      "\u001b[1m Chatbot>>:\u001b[0m The lowest ticket price for tennis games is €30.\n",
      " User >>:And for beach volleyball?\n",
      "\u001b[1m Chatbot>>:\u001b[0m The lowest ticket price for beach volleyball games is €24.\n",
      " User >>:And what is the category of this ticket?\n",
      "\u001b[1m Chatbot>>:\u001b[0m The category of this ticket is D.\n",
      " User >>:bye\n",
      "\u001b[1m Chatbot>>:\u001b[0m Thank you for your messages, have a good day!\n"
     ]
    }
   ],
   "source": [
    "print(\"=======================================================================\")\n",
    "print(\"Welcome to Paris Olympics Ticket Information Chatbot. Enter your query\")\n",
    "print(\"=======================================================================\")\n",
    "\n",
    "query = \"\"\n",
    "while query != \"bye\":\n",
    "    query = input(\"\\033[1m User >>:\\033[0m\")\n",
    "    \n",
    "    if query == \"bye\":\n",
    "        chat_history = []\n",
    "        print(\"\\033[1m Chatbot>>:\\033[0m Thank you for your messages, have a good day!\")\n",
    "        break\n",
    "    response = generate_response_with_memory(query)\n",
    "    print(f\"\\033[1m Chatbot>>:\\033[0m {response}\")\n"
   ]
  },
  {
   "cell_type": "code",
   "execution_count": null,
   "id": "d3f7ce1b",
   "metadata": {},
   "outputs": [],
   "source": []
  }
 ],
 "metadata": {
  "kernelspec": {
   "display_name": "Python 3 (ipykernel)",
   "language": "python",
   "name": "python3"
  },
  "language_info": {
   "codemirror_mode": {
    "name": "ipython",
    "version": 3
   },
   "file_extension": ".py",
   "mimetype": "text/x-python",
   "name": "python",
   "nbconvert_exporter": "python",
   "pygments_lexer": "ipython3",
   "version": "3.11.5"
  }
 },
 "nbformat": 4,
 "nbformat_minor": 5
}
