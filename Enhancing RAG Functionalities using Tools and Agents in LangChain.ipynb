{
 "cells": [
  {
   "cell_type": "markdown",
   "id": "ca61fa9a",
   "metadata": {},
   "source": [
    "## Detailed Article Explaination\n",
    "\n",
    "The detailed code explanation for this article is available at the following link:\n",
    "\n",
    "https://www.daniweb.com/programming/computer-science/tutorials/542366/enhancing-rag-functionalities-using-tools-and-agents-in-langchain\n",
    "\n",
    "For my other articles for Daniweb.com, please see this link:\n",
    "\n",
    "https://www.daniweb.com/members/1235222/usmanmalik57"
   ]
  },
  {
   "cell_type": "markdown",
   "id": "425d160b",
   "metadata": {},
   "source": [
    "## Installing and Importing Required Libraries"
   ]
  },
  {
   "cell_type": "code",
   "execution_count": 1,
   "id": "adab19f2",
   "metadata": {},
   "outputs": [
    {
     "name": "stdout",
     "output_type": "stream",
     "text": [
      "Requirement already satisfied: langchain in c:\\users\\usman\\anaconda3\\lib\\site-packages (0.2.15)\n",
      "Requirement already satisfied: PyYAML>=5.3 in c:\\users\\usman\\anaconda3\\lib\\site-packages (from langchain) (6.0.1)\n",
      "Requirement already satisfied: SQLAlchemy<3,>=1.4 in c:\\users\\usman\\anaconda3\\lib\\site-packages (from langchain) (2.0.29)\n",
      "Requirement already satisfied: aiohttp<4.0.0,>=3.8.3 in c:\\users\\usman\\anaconda3\\lib\\site-packages (from langchain) (3.9.3)\n",
      "Requirement already satisfied: langchain-core<0.3.0,>=0.2.35 in c:\\users\\usman\\anaconda3\\lib\\site-packages (from langchain) (0.2.36)\n",
      "Requirement already satisfied: langchain-text-splitters<0.3.0,>=0.2.0 in c:\\users\\usman\\anaconda3\\lib\\site-packages (from langchain) (0.2.2)\n",
      "Requirement already satisfied: langsmith<0.2.0,>=0.1.17 in c:\\users\\usman\\anaconda3\\lib\\site-packages (from langchain) (0.1.82)\n",
      "Requirement already satisfied: numpy<2,>=1 in c:\\users\\usman\\anaconda3\\lib\\site-packages (from langchain) (1.24.3)\n",
      "Requirement already satisfied: pydantic<3,>=1 in c:\\users\\usman\\anaconda3\\lib\\site-packages (from langchain) (2.4.2)\n",
      "Requirement already satisfied: requests<3,>=2 in c:\\users\\usman\\anaconda3\\lib\\site-packages (from langchain) (2.31.0)\n",
      "Requirement already satisfied: tenacity!=8.4.0,<9.0.0,>=8.1.0 in c:\\users\\usman\\anaconda3\\lib\\site-packages (from langchain) (8.2.2)\n",
      "Requirement already satisfied: aiosignal>=1.1.2 in c:\\users\\usman\\anaconda3\\lib\\site-packages (from aiohttp<4.0.0,>=3.8.3->langchain) (1.2.0)\n",
      "Requirement already satisfied: attrs>=17.3.0 in c:\\users\\usman\\anaconda3\\lib\\site-packages (from aiohttp<4.0.0,>=3.8.3->langchain) (22.1.0)\n",
      "Requirement already satisfied: frozenlist>=1.1.1 in c:\\users\\usman\\anaconda3\\lib\\site-packages (from aiohttp<4.0.0,>=3.8.3->langchain) (1.3.3)\n",
      "Requirement already satisfied: multidict<7.0,>=4.5 in c:\\users\\usman\\anaconda3\\lib\\site-packages (from aiohttp<4.0.0,>=3.8.3->langchain) (6.0.2)\n",
      "Requirement already satisfied: yarl<2.0,>=1.0 in c:\\users\\usman\\anaconda3\\lib\\site-packages (from aiohttp<4.0.0,>=3.8.3->langchain) (1.8.1)\n",
      "Requirement already satisfied: jsonpatch<2.0,>=1.33 in c:\\users\\usman\\anaconda3\\lib\\site-packages (from langchain-core<0.3.0,>=0.2.35->langchain) (1.33)\n",
      "Requirement already satisfied: packaging<25,>=23.2 in c:\\users\\usman\\anaconda3\\lib\\site-packages (from langchain-core<0.3.0,>=0.2.35->langchain) (23.2)\n",
      "Requirement already satisfied: typing-extensions>=4.7 in c:\\users\\usman\\anaconda3\\lib\\site-packages (from langchain-core<0.3.0,>=0.2.35->langchain) (4.12.2)\n",
      "Requirement already satisfied: orjson<4.0.0,>=3.9.14 in c:\\users\\usman\\anaconda3\\lib\\site-packages (from langsmith<0.2.0,>=0.1.17->langchain) (3.10.0)\n",
      "Requirement already satisfied: annotated-types>=0.4.0 in c:\\users\\usman\\anaconda3\\lib\\site-packages (from pydantic<3,>=1->langchain) (0.5.0)\n",
      "Requirement already satisfied: pydantic-core==2.10.1 in c:\\users\\usman\\anaconda3\\lib\\site-packages (from pydantic<3,>=1->langchain) (2.10.1)\n",
      "Requirement already satisfied: charset-normalizer<4,>=2 in c:\\users\\usman\\anaconda3\\lib\\site-packages (from requests<3,>=2->langchain) (2.0.4)\n",
      "Requirement already satisfied: idna<4,>=2.5 in c:\\users\\usman\\anaconda3\\lib\\site-packages (from requests<3,>=2->langchain) (3.4)\n",
      "Requirement already satisfied: urllib3<3,>=1.21.1 in c:\\users\\usman\\anaconda3\\lib\\site-packages (from requests<3,>=2->langchain) (2.2.2)\n",
      "Requirement already satisfied: certifi>=2017.4.17 in c:\\users\\usman\\anaconda3\\lib\\site-packages (from requests<3,>=2->langchain) (2023.7.22)\n",
      "Requirement already satisfied: greenlet!=0.4.17 in c:\\users\\usman\\anaconda3\\lib\\site-packages (from SQLAlchemy<3,>=1.4->langchain) (3.0.3)\n",
      "Requirement already satisfied: jsonpointer>=1.9 in c:\\users\\usman\\anaconda3\\lib\\site-packages (from jsonpatch<2.0,>=1.33->langchain-core<0.3.0,>=0.2.35->langchain) (2.1)\n",
      "Requirement already satisfied: langchain-core in c:\\users\\usman\\anaconda3\\lib\\site-packages (0.2.36)\n",
      "Requirement already satisfied: PyYAML>=5.3 in c:\\users\\usman\\anaconda3\\lib\\site-packages (from langchain-core) (6.0.1)\n",
      "Requirement already satisfied: jsonpatch<2.0,>=1.33 in c:\\users\\usman\\anaconda3\\lib\\site-packages (from langchain-core) (1.33)\n",
      "Requirement already satisfied: langsmith<0.2.0,>=0.1.75 in c:\\users\\usman\\anaconda3\\lib\\site-packages (from langchain-core) (0.1.82)\n",
      "Requirement already satisfied: packaging<25,>=23.2 in c:\\users\\usman\\anaconda3\\lib\\site-packages (from langchain-core) (23.2)\n",
      "Requirement already satisfied: pydantic<3,>=1 in c:\\users\\usman\\anaconda3\\lib\\site-packages (from langchain-core) (2.4.2)\n",
      "Requirement already satisfied: tenacity!=8.4.0,<9.0.0,>=8.1.0 in c:\\users\\usman\\anaconda3\\lib\\site-packages (from langchain-core) (8.2.2)\n",
      "Requirement already satisfied: typing-extensions>=4.7 in c:\\users\\usman\\anaconda3\\lib\\site-packages (from langchain-core) (4.12.2)\n",
      "Requirement already satisfied: jsonpointer>=1.9 in c:\\users\\usman\\anaconda3\\lib\\site-packages (from jsonpatch<2.0,>=1.33->langchain-core) (2.1)\n",
      "Requirement already satisfied: orjson<4.0.0,>=3.9.14 in c:\\users\\usman\\anaconda3\\lib\\site-packages (from langsmith<0.2.0,>=0.1.75->langchain-core) (3.10.0)\n",
      "Requirement already satisfied: requests<3,>=2 in c:\\users\\usman\\anaconda3\\lib\\site-packages (from langsmith<0.2.0,>=0.1.75->langchain-core) (2.31.0)\n",
      "Requirement already satisfied: annotated-types>=0.4.0 in c:\\users\\usman\\anaconda3\\lib\\site-packages (from pydantic<3,>=1->langchain-core) (0.5.0)\n",
      "Requirement already satisfied: pydantic-core==2.10.1 in c:\\users\\usman\\anaconda3\\lib\\site-packages (from pydantic<3,>=1->langchain-core) (2.10.1)\n",
      "Requirement already satisfied: charset-normalizer<4,>=2 in c:\\users\\usman\\anaconda3\\lib\\site-packages (from requests<3,>=2->langsmith<0.2.0,>=0.1.75->langchain-core) (2.0.4)\n",
      "Requirement already satisfied: idna<4,>=2.5 in c:\\users\\usman\\anaconda3\\lib\\site-packages (from requests<3,>=2->langsmith<0.2.0,>=0.1.75->langchain-core) (3.4)\n",
      "Requirement already satisfied: urllib3<3,>=1.21.1 in c:\\users\\usman\\anaconda3\\lib\\site-packages (from requests<3,>=2->langsmith<0.2.0,>=0.1.75->langchain-core) (2.2.2)\n",
      "Requirement already satisfied: certifi>=2017.4.17 in c:\\users\\usman\\anaconda3\\lib\\site-packages (from requests<3,>=2->langsmith<0.2.0,>=0.1.75->langchain-core) (2023.7.22)\n",
      "Requirement already satisfied: langchainhub in c:\\users\\usman\\anaconda3\\lib\\site-packages (0.1.21)\n",
      "Requirement already satisfied: packaging<25,>=23.2 in c:\\users\\usman\\anaconda3\\lib\\site-packages (from langchainhub) (23.2)\n",
      "Requirement already satisfied: requests<3,>=2 in c:\\users\\usman\\anaconda3\\lib\\site-packages (from langchainhub) (2.31.0)\n",
      "Requirement already satisfied: types-requests<3.0.0.0,>=2.31.0.2 in c:\\users\\usman\\anaconda3\\lib\\site-packages (from langchainhub) (2.32.0.20240712)\n",
      "Requirement already satisfied: charset-normalizer<4,>=2 in c:\\users\\usman\\anaconda3\\lib\\site-packages (from requests<3,>=2->langchainhub) (2.0.4)\n",
      "Requirement already satisfied: idna<4,>=2.5 in c:\\users\\usman\\anaconda3\\lib\\site-packages (from requests<3,>=2->langchainhub) (3.4)\n",
      "Requirement already satisfied: urllib3<3,>=1.21.1 in c:\\users\\usman\\anaconda3\\lib\\site-packages (from requests<3,>=2->langchainhub) (2.2.2)\n",
      "Requirement already satisfied: certifi>=2017.4.17 in c:\\users\\usman\\anaconda3\\lib\\site-packages (from requests<3,>=2->langchainhub) (2023.7.22)\n",
      "Requirement already satisfied: pypdf in c:\\users\\usman\\anaconda3\\lib\\site-packages (4.1.0)\n",
      "Requirement already satisfied: faiss-cpu in c:\\users\\usman\\anaconda3\\lib\\site-packages (1.7.4)\n"
     ]
    }
   ],
   "source": [
    "!pip install -U langchain\n",
    "!pip install langchain-core\n",
    "!pip install langchainhub\n",
    "!pip install -qU langchain-openai\n",
    "!pip install pypdf\n",
    "!pip install faiss-cpu\n",
    "!pip install --upgrade --quiet  wikipedia"
   ]
  },
  {
   "cell_type": "code",
   "execution_count": 2,
   "id": "daeaaac0",
   "metadata": {},
   "outputs": [],
   "source": [
    "from langchain.tools import WikipediaQueryRun\n",
    "from langchain_community.utilities import WikipediaAPIWrapper\n",
    "from langchain.tools.retriever import create_retriever_tool\n",
    "from langchain.agents import AgentExecutor, create_tool_calling_agent\n",
    "from langchain_openai import ChatOpenAI, OpenAIEmbeddings\n",
    "from langchain_community.chat_message_histories import ChatMessageHistory\n",
    "from langchain_core.runnables.history import RunnableWithMessageHistory\n",
    "from langchain_core.tools import tool\n",
    "from langchain import hub\n",
    "import os\n",
    "\n",
    "from langchain_community.document_loaders import PyPDFLoader\n",
    "from langchain.text_splitter import RecursiveCharacterTextSplitter\n",
    "from langchain_community.vectorstores import FAISS"
   ]
  },
  {
   "cell_type": "markdown",
   "id": "e3fdae95",
   "metadata": {},
   "source": [
    "## Enhancing RAG with Tools and Agents"
   ]
  },
  {
   "cell_type": "markdown",
   "id": "c2ae416e",
   "metadata": {},
   "source": [
    "### Importing Wikipedia Tool"
   ]
  },
  {
   "cell_type": "code",
   "execution_count": 23,
   "id": "3b2a187f",
   "metadata": {},
   "outputs": [
    {
     "name": "stdout",
     "output_type": "stream",
     "text": [
      "Page: Large language model\n",
      "Summary: A large language model (LLM) is a computational model capable of language generation or other natural language processing tasks. As language models, LLMs acquire these abilities by learning statistical relationships from vast amounts of text during a self-supervised and semi-supervised training process.\n",
      "The largest and most capable LLMs, as of August 2024, are artificial neural networks built with a decoder-only transformer-based architecture, which enables efficient processing and generation of large-scale text data. Modern models can be fine-tuned for specific tasks or can be guided by prompt engineering. These models acquire predictive power regarding syntax, semantics, and ontologies inherent in human language corpora, but they also inherit inaccuracies and biases present in the data they are trained on.\n",
      "Some notable LLMs are OpenAI's GPT series of models (e.g., GPT-3.5, GPT-4 and GPT-4o; used in ChatGPT and Microsoft Copilot), Google's Gemini (the latter of which is currently used in the chatbot of the same name), Meta's LLaMA family of models, IBM's Granite models initially released with Watsonx, Anthropic's Claude models, and Mistral AI's models.\n",
      "\n",
      "Page: Claude (language model)\n",
      "Summary: Claude is a family of large language models developed by Anthropic. The first model was released in March 2023. Claude 3, released in March 2024, can also analyze images.\n",
      "\n",
      "\n",
      "\n",
      "Page: Llama (language model)\n",
      "Summary: Llama (acronym for Large Language Model Meta AI, and formerly stylized as LLaMA) is a family of autoregressive large language models (LLMs) released by Meta AI starting in February 2023. The latest version is Llama 3.1, released in July 2024.\n",
      "Model weights for the first version of Llama were made available to the research community under a non-commercial license, and access was granted on a case-by-case basis. Unauthorized copies of the model were shared via BitTorrent. In response, Meta AI issued DMCA takedown requests against repositories sharing the link on GitHub. Subsequent versions of Llama were made accessible outside academia and released under licenses that permitted some commercial use. Llama models are trained at different parameter sizes, ranging between 7B and 405B. Originally, Llama was only available as a foundation model. Starting with Llama 2, Meta AI started releasing instruction fine-tuned versions alongside foundation models.\n",
      "Alongside the release of Llama 3, Meta added virtual assistant features to Facebook and WhatsApp in select regions, and a standalone website. Both services use a Llama 3 model.\n"
     ]
    }
   ],
   "source": [
    "wikipedia_tool = WikipediaQueryRun(api_wrapper=WikipediaAPIWrapper())\n",
    "response = wikipedia_tool.run(\"What are large language models?\")\n",
    "print(response)"
   ]
  },
  {
   "cell_type": "code",
   "execution_count": 4,
   "id": "f2180f6f",
   "metadata": {},
   "outputs": [],
   "source": [
    "@tool\n",
    "def WikipediaSearch(search_term: str):\n",
    "\n",
    "    \"\"\"\n",
    "    Use this tool to search for wikipedia articles. \n",
    "    If a user asks to search the internet, you can search via this wikipedia tool.\n",
    "    \"\"\"\n",
    "    \n",
    "\n",
    "    result = wikipedia_tool.run(search_term)\n",
    "    return result \n",
    "    "
   ]
  },
  {
   "cell_type": "markdown",
   "id": "d0fa8420",
   "metadata": {},
   "source": [
    "### Creating Retrieval Tool"
   ]
  },
  {
   "cell_type": "code",
   "execution_count": 5,
   "id": "ba7d9a9b",
   "metadata": {},
   "outputs": [],
   "source": [
    "openai_api_key = os.getenv('OPENAI_API_KEY')\n",
    "\n",
    "loader = PyPDFLoader(\"https://web.archive.org/web/20170809122528id_/http://global-settlement.org/pub/The%20English%20Constitution%20-%20by%20Walter%20Bagehot.pdf\")\n",
    "docs = loader.load_and_split()\n",
    "\n",
    "documents = RecursiveCharacterTextSplitter(\n",
    "    chunk_size=1000, chunk_overlap=200\n",
    ").split_documents(docs)\n",
    "\n",
    "embeddings = OpenAIEmbeddings(openai_api_key = openai_api_key)\n",
    "vector = FAISS.from_documents(documents, embeddings)\n",
    "\n",
    "retriever = vector.as_retriever()"
   ]
  },
  {
   "cell_type": "code",
   "execution_count": 6,
   "id": "1c0223de",
   "metadata": {},
   "outputs": [
    {
     "data": {
      "text/plain": [
       "[Document(metadata={'source': 'https://web.archive.org/web/20170809122528id_/http://global-settlement.org/pub/The%20English%20Constitution%20-%20by%20Walter%20Bagehot.pdf', 'page': 85}, page_content='It may be said that the House of Commons does not rule, it only elects the rulers. But there must be something  \\nspecial about it to enable it to do that. Suppose the Cabinet were elected by a London club, what confusion  \\nthere would be, what writing and answering! \"Will you speak to So-and-So, and ask him to vote for my man?\"  \\nwould be heard on every side. How the wife of A. and the wife of B. would plot to confound the wife of C.  \\nWhether the club elected under the dignified shadow of a queen, or without the shadow, would hardly matter  \\nat all; if the substantial choice was in them, the confusion and intrigue would be there too. I propose to begin  \\nthis paper by asking, not why the House of Commons governs well? but the fundamental—almost unasked  \\nquestion—how the House of Commons comes to be able to govern at all? \\nThe House of Commons can do work which the quarter-sessions or clubs cannot do, because it is an organised'),\n",
       " Document(metadata={'source': 'https://web.archive.org/web/20170809122528id_/http://global-settlement.org/pub/The%20English%20Constitution%20-%20by%20Walter%20Bagehot.pdf', 'page': 10}, page_content='House of Commons still mainly represents the plutocracy, the Lords represent the aristocracy. The main interest  \\nof both these classes is now identical, which is to prevent or to mitigate the rule of uneducated numbers. But to  \\nprevent it effectually, they must not quarrel among themselves; they must not bid one against the other for the  \\naid of their common opponent. And this is precisely the effect of a division between Lords and Commons. The  \\ntwo great bodies of the educated rich go to the constituencies to decide between them, and the majority of the  \\nconstituencies now consist of the uneducated poor. This cannot be for the advantage of any one. \\nIn doing so besides the aristocracy forfeit their natural position?—that by which they would gain most power,  \\nand in which they would do most good. They ought to be the heads of the plutocracy. In all countries new  \\nwealth is ready to worship old wealth, if old wealth will only let it, and I need not say that in England new'),\n",
       " Document(metadata={'source': 'https://web.archive.org/web/20170809122528id_/http://global-settlement.org/pub/The%20English%20Constitution%20-%20by%20Walter%20Bagehot.pdf', 'page': 14}, page_content='Carlton, or on a Tory Government by the Reform Club. And in no case has an adverse vote by the Lords the  \\nsame decisive effect as a vote of the Commons; the Lower House is the ruling and the choosing House, and if a  \\nGovernment really possesses that, it thoroughly possesses nine-tenths of what it requires. The support of the  \\nLords is an aid and a luxury; that of the Commons is a strict and indispensable necessary. \\nThese difficulties are particularly raised by questions of foreign policy. On most domestic subjects, either')]"
      ]
     },
     "execution_count": 6,
     "metadata": {},
     "output_type": "execute_result"
    }
   ],
   "source": [
    "query = \"\"\"\n",
    "\"What is the difference between the house of lords and house of commons? How members are elected for both?\"\n",
    "\"\"\"\n",
    "retriever.invoke(query)[:3]"
   ]
  },
  {
   "cell_type": "code",
   "execution_count": 7,
   "id": "ad40e815",
   "metadata": {},
   "outputs": [],
   "source": [
    "BritishParliamentSearch = create_retriever_tool(\n",
    "    retriever,\n",
    "    \"british_parliament_search\",\n",
    "    \"Use this tool tos earch for information about the british parliament, house of lords and house of common and any other related information.\",\n",
    ")"
   ]
  },
  {
   "cell_type": "markdown",
   "id": "26b58d44",
   "metadata": {},
   "source": [
    "### Creating Tool Calling Agent"
   ]
  },
  {
   "cell_type": "code",
   "execution_count": 8,
   "id": "a579923f",
   "metadata": {},
   "outputs": [
    {
     "name": "stderr",
     "output_type": "stream",
     "text": [
      "C:\\Users\\usman\\anaconda3\\Lib\\site-packages\\langchain\\hub.py:120: DeprecationWarning: The `langchainhub sdk` is deprecated.\n",
      "Please use the `langsmith sdk` instead:\n",
      "  pip install langsmith\n",
      "Use the `pull_prompt` method.\n",
      "  res_dict = client.pull_repo(owner_repo_commit)\n"
     ]
    },
    {
     "data": {
      "text/plain": [
       "[SystemMessagePromptTemplate(prompt=PromptTemplate(input_variables=[], template='You are a helpful assistant')),\n",
       " MessagesPlaceholder(variable_name='chat_history', optional=True),\n",
       " HumanMessagePromptTemplate(prompt=PromptTemplate(input_variables=['input'], template='{input}')),\n",
       " MessagesPlaceholder(variable_name='agent_scratchpad')]"
      ]
     },
     "execution_count": 8,
     "metadata": {},
     "output_type": "execute_result"
    }
   ],
   "source": [
    "tools = [WikipediaSearch, BritishParliamentSearch]\n",
    "# Get the prompt to use - you can modify this!\n",
    "prompt = hub.pull(\"hwchase17/openai-functions-agent\")\n",
    "prompt.messages"
   ]
  },
  {
   "cell_type": "code",
   "execution_count": 9,
   "id": "dc7e37f0",
   "metadata": {},
   "outputs": [],
   "source": [
    "llm = ChatOpenAI(model=\"gpt-4o\",\n",
    "                 temperature=0,\n",
    "                 api_key=openai_api_key,\n",
    "                )"
   ]
  },
  {
   "cell_type": "code",
   "execution_count": 10,
   "id": "8ea40eff",
   "metadata": {},
   "outputs": [
    {
     "name": "stdout",
     "output_type": "stream",
     "text": [
      "\n",
      "\n",
      "\u001b[1m> Entering new AgentExecutor chain...\u001b[0m\n",
      "\u001b[32;1m\u001b[1;3m\n",
      "Invoking: `british_parliament_search` with `{'query': 'number of members in the House of Commons'}`\n",
      "\n",
      "\n",
      "\u001b[0m\u001b[33;1m\u001b[1;3mTHE HOUSE OF COMMONS. ..................................................................................... 82\n",
      "NO. VI. ...................................................................................................................... 101\n",
      "ON CHANGES OF MINISTRY. .................................................................................... 101\n",
      "NO. VII. ..................................................................................................................... 120\n",
      "ITS SUPPOSED CHECKS AND BALANCES. ................................................................ 120\n",
      "NO. VIII. .................................................................................................................... 136\n",
      "THE PREREQUISITES OF CABINET GOVERNMENT, \n",
      "AND THE PECULIAR FORM WHICH THEY HAVE ASSUMED IN ENGLAND. .............136\n",
      "NO. IX. ...................................................................................................................... 143\n",
      "\n",
      "look at it\"—to look at it not on a great party field-day, or at a time of parade, but in the ordinary transaction of  \n",
      "business. There are perhaps ten peers in the House, possibly only six; three is the quorum for transacting  \n",
      "business. A few more may dawdle in or not dawdle in: those are the principal speakers, the lawyers (a few  \n",
      "years ago when Lyndhurst, Brougham, and Campbell were in vigour, they were by far the predominant talkers)  \n",
      "and a few statesmen whom every one knows. But the mass of the House is nothing. This is why orators trained  \n",
      "in the Commons detest to speak in the Lords. Lord Chatham used to call it the \"Tapestry\". The House of  \n",
      "Commons is a scene of life if ever there was a scene of life. Every member in the throng, every atom in the  \n",
      "medley, has his own objects (good or bad), his own purposes (great or petty); his own notions, such as they are,  \n",
      "of what is; his own notions, such as they are, of what ought to be. There is a motley confluence of vigorous\n",
      "\n",
      "voluntary plan, be a trade here. Every party would have a numerical problem to solve. The leaders would say,  \n",
      "\"We have 350,000 votes, we must take care to have 350 members\"; and the only way to obtain them is to  \n",
      "organise. A man who wanted to compose part of a Liberal constituency must not himself hunt for 1000 other  \n",
      "Liberals; if he did, after writing 10000 letters, he would probably find he was making part of a constituency of  \n",
      "100, all whose votes would be thrown away, the constituency being too small to be reckoned. Such a Liberal  \n",
      "must write to the great Registration Association in Parliament Street; he must communicate with its able  \n",
      "managers, and they would soon use his vote for him. They would say, \"Sir, you are late; Mr. Gladstone, sir, is  \n",
      "full. He got his 1000 last year. Most of the gentlemen you read of in the papers are full. As soon as a gentleman  \n",
      "makes a nice speech, we get a heap of letters to say, 'Make us into that gentleman's constituency'. But we\n",
      "\n",
      "Unless the composition of the House of Commons were improved, or unless the rules requiring Cabinet  \n",
      "Ministers to be members of the legislature were relaxed, it would undoubtedly be difficult to find, without the  \n",
      "33\u001b[0m\u001b[32;1m\u001b[1;3mThe House of Commons of the United Kingdom is composed of 650 Members of Parliament (MPs).\u001b[0m\n",
      "\n",
      "\u001b[1m> Finished chain.\u001b[0m\n",
      "{'input': 'How many members are there in the House of Common?', 'output': 'The House of Commons of the United Kingdom is composed of 650 Members of Parliament (MPs).'}\n"
     ]
    }
   ],
   "source": [
    "agent = create_tool_calling_agent(llm, tools, prompt)\n",
    "agent_executor = AgentExecutor(agent=agent, tools=tools, verbose = True)\n",
    "response = agent_executor.invoke({\"input\": \"How many members are there in the House of Common?\"})\n",
    "print(response)"
   ]
  },
  {
   "cell_type": "code",
   "execution_count": 11,
   "id": "a6553585",
   "metadata": {},
   "outputs": [
    {
     "name": "stdout",
     "output_type": "stream",
     "text": [
      "\n",
      "\n",
      "\u001b[1m> Entering new AgentExecutor chain...\u001b[0m\n",
      "\u001b[32;1m\u001b[1;3m\n",
      "Invoking: `WikipediaSearch` with `{'search_term': 'President of the United States'}`\n",
      "\n",
      "\n",
      "\u001b[0m\u001b[36;1m\u001b[1;3mPage: President of the United States\n",
      "Summary: The president of the United States (POTUS) is the head of state and head of government of the United States of America. The president directs the executive branch of the federal government and is the commander-in-chief of the United States Armed Forces.\n",
      "The power of the presidency has grown substantially since the first president, George Washington, took office in 1789. While presidential power has ebbed and flowed over time, the presidency has played an increasingly significant role in American political life since the beginning of the 20th century, carrying over into the 21st century with notable expansions during the presidencies of Franklin D. Roosevelt and George W. Bush. In modern times, the president is one of the world's most powerful political figures and the leader of the world's only remaining superpower. As the leader of the nation with the largest economy by nominal GDP, the president possesses significant domestic and international hard and soft power. For much of the 20th century, especially during the Cold War, the U.S. president was often called \"the leader of the free world\".\n",
      "Article II of the Constitution establishes the executive branch of the federal government and vests executive power in the president. The power includes the execution and enforcement of federal law and the responsibility to appoint federal executive, diplomatic, regulatory, and judicial officers.  Based on constitutional provisions empowering the president to appoint and receive ambassadors and conclude treaties with foreign powers, and on subsequent laws enacted by Congress, the modern presidency has primary responsibility for conducting U.S. foreign policy. The role includes responsibility for directing the world's most expensive military, which has the second-largest nuclear arsenal.\n",
      "The president also plays a leading role in federal legislation and domestic policymaking. As part of the system of separation of powers, Article I, Section 7 of the Constitution gives the president the power to sign or veto federal legislation. Since modern presidents are typically viewed as leaders of their political parties, major policymaking is significantly shaped by the outcome of presidential elections, with presidents taking an active role in promoting their policy priorities to members of Congress who are often electorally dependent on the president. In recent decades, presidents have also made increasing use of executive orders, agency regulations, and judicial appointments to shape domestic policy.\n",
      "The president is elected indirectly through the Electoral College to a four-year term, along with the vice president. Under the Twenty-second Amendment, ratified in 1951, no person who has been elected to two presidential terms may be elected to a third. In addition, nine vice presidents have become president by virtue of a president's intra-term death or resignation. In all, 45 individuals have served 46 presidencies spanning 58 four-year terms. Joe Biden is the 46th and current president, having assumed office on January 20, 2021.\n",
      "\n",
      "\n",
      "\n",
      "Page: List of presidents of the United States\n",
      "Summary: The president of the United States is the head of state and head of government of the United States, indirectly elected to a four-year term via the Electoral College. The officeholder leads the executive branch of the federal government and is the commander-in-chief of the United States Armed Forces. Since the office was established in 1789, 45 men have served in 46 presidencies. The first president, George Washington, won a unanimous vote of the Electoral College. Grover Cleveland served two non-consecutive terms and is therefore counted as the 22nd and 24th president of the United States, giving rise to the discrepancy between the number of presidencies and the number of individuals who have served as president.\n",
      "The presidency of William Henry Harrison, who died 31 days after taking office in 1841, was the shortest in\u001b[0m\u001b[32;1m\u001b[1;3mThe current president of the United States is Joe Biden. He is the 46th president and assumed office on January 20, 2021.\u001b[0m\n",
      "\n",
      "\u001b[1m> Finished chain.\u001b[0m\n"
     ]
    }
   ],
   "source": [
    "response = agent_executor.invoke({\"input\": \"Who is the current president of United States?\"})"
   ]
  },
  {
   "cell_type": "code",
   "execution_count": 12,
   "id": "0749f3ab",
   "metadata": {},
   "outputs": [
    {
     "name": "stdout",
     "output_type": "stream",
     "text": [
      "The current president of the United States is Joe Biden. He is the 46th president and assumed office on January 20, 2021.\n"
     ]
    }
   ],
   "source": [
    "print(response[\"output\"])"
   ]
  },
  {
   "cell_type": "markdown",
   "id": "11bb729b",
   "metadata": {},
   "source": [
    "## Adding Memory to Agent Executor"
   ]
  },
  {
   "cell_type": "code",
   "execution_count": 13,
   "id": "4d818409",
   "metadata": {},
   "outputs": [],
   "source": [
    "agent_executor = AgentExecutor(agent=agent, tools=tools, verbose = False)\n",
    "\n",
    "message_history = ChatMessageHistory()\n",
    "\n",
    "agent_with_chat_history = RunnableWithMessageHistory(\n",
    "    agent_executor,\n",
    "    # This is needed because in most real world scenarios, a session id is needed\n",
    "    # It isn't really used here because we are using a simple in memory ChatMessageHistory\n",
    "    lambda session_id: message_history,\n",
    "    input_messages_key=\"input\",\n",
    "    history_messages_key=\"chat_history\",\n",
    ")\n"
   ]
  },
  {
   "cell_type": "code",
   "execution_count": 14,
   "id": "bfc8ab0d",
   "metadata": {},
   "outputs": [],
   "source": [
    "def generate_response(query):\n",
    "    response = agent_with_chat_history.invoke(\n",
    "    {\"input\": query},\n",
    "    config={\"configurable\": {\"session_id\": \"<foo>\"}}\n",
    "    )\n",
    "    \n",
    "    return response"
   ]
  },
  {
   "cell_type": "code",
   "execution_count": 18,
   "id": "d93b139c",
   "metadata": {},
   "outputs": [
    {
     "name": "stdout",
     "output_type": "stream",
     "text": [
      "The House of Commons and the House of Lords are the two houses of the Parliament of the United Kingdom, each with distinct roles, compositions, and powers.\n",
      "\n",
      "### House of Commons\n",
      "- **Composition**: The House of Commons is an elected body consisting of 650 members known as Members of Parliament (MPs). These MPs are elected to represent constituencies by the first-past-the-post system.\n",
      "- **Role**: The House of Commons is the primary legislative body. It is responsible for making and passing laws. The government is solely responsible to the House of Commons, and the Prime Minister stays in office only as long as they retain the confidence of a majority of the Commons.\n",
      "- **Powers**: The House of Commons holds significant power, including the ability to pass legislation, control public spending, and scrutinize the government. Under the Parliament Acts of 1911 and 1949, the House of Lords' power to reject legislation was reduced to a delaying power.\n",
      "- **History**: The House of Commons evolved in the 13th and 14th centuries and has undergone various changes, including the political union with Scotland in 1707 and with Ireland in 1801. It became the House of Commons of the United Kingdom of Great Britain and Northern Ireland after the independence of the Irish Free State in 1922.\n",
      "\n",
      "### House of Lords\n",
      "- **Composition**: The House of Lords is primarily composed of life peers, bishops, and hereditary peers. The House of Lords Act 1999 significantly reformed the House by removing the automatic right of hereditary peers to sit in the House, although 92 hereditary peers remain as a compromise.\n",
      "- **Role**: The House of Lords acts as a revising chamber, scrutinizing and suggesting amendments to legislation proposed by the House of Commons. It also has a role in reviewing public policy and administration.\n",
      "- **Powers**: The House of Lords has limited legislative power. It can delay legislation but cannot ultimately block it. Its role is more about revision and scrutiny rather than direct legislative power.\n",
      "- **History**: The House of Lords has a long history, with its composition and powers evolving over centuries. The Life Peerages Act 1958 and the House of Lords Act 1999 are significant milestones in its modern history, shifting the balance towards life peers and reducing the number of hereditary peers.\n",
      "\n",
      "### Key Differences\n",
      "1. **Election vs. Appointment**: Members of the House of Commons are elected, while members of the House of Lords are appointed (life peers) or inherit their position (hereditary peers).\n",
      "2. **Legislative Power**: The House of Commons has greater legislative power, including the ability to pass laws and control public spending. The House of Lords primarily acts as a revising chamber with limited power to delay legislation.\n",
      "3. **Government Accountability**: The government is accountable to the House of Commons, and the Prime Minister must retain the confidence of the Commons to stay in office. The House of Lords does not have this power.\n",
      "\n",
      "These differences highlight the distinct roles and functions of the two houses within the UK Parliament.\n"
     ]
    }
   ],
   "source": [
    "query = \"What is the difference between the house of lords and the house of commons?\"\n",
    "response = generate_response(query)\n",
    "print(response[\"output\"])"
   ]
  },
  {
   "cell_type": "code",
   "execution_count": 19,
   "id": "9423fbe3",
   "metadata": {},
   "outputs": [
    {
     "name": "stdout",
     "output_type": "stream",
     "text": [
      "The current President of the United States is Joe Biden. He assumed office on January 20, 2021, and is the 46th president of the United States.\n"
     ]
    }
   ],
   "source": [
    "query = \"Who is the current President of America?\"\n",
    "response = generate_response(query)\n",
    "print(response[\"output\"])"
   ]
  },
  {
   "cell_type": "code",
   "execution_count": 20,
   "id": "56dedcb2",
   "metadata": {},
   "outputs": [
    {
     "name": "stdout",
     "output_type": "stream",
     "text": [
      "The current President of France is Emmanuel Macron. He has been in office since May 14, 2017, and was re-elected for a second term in 2022.\n"
     ]
    }
   ],
   "source": [
    "query = \"And of France?\"\n",
    "response = generate_response(query)\n",
    "print(response[\"output\"])"
   ]
  },
  {
   "cell_type": "code",
   "execution_count": null,
   "id": "6d1c5ba3",
   "metadata": {},
   "outputs": [],
   "source": []
  }
 ],
 "metadata": {
  "kernelspec": {
   "display_name": "Python 3 (ipykernel)",
   "language": "python",
   "name": "python3"
  },
  "language_info": {
   "codemirror_mode": {
    "name": "ipython",
    "version": 3
   },
   "file_extension": ".py",
   "mimetype": "text/x-python",
   "name": "python",
   "nbconvert_exporter": "python",
   "pygments_lexer": "ipython3",
   "version": "3.11.4"
  }
 },
 "nbformat": 4,
 "nbformat_minor": 5
}
