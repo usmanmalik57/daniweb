{
 "cells": [
  {
   "cell_type": "markdown",
   "id": "14e1f30c",
   "metadata": {},
   "source": [
    "## Detailed Article Explaination\n",
    "\n",
    "The detailed code explanation for this article is available at the following link:\n",
    "\n",
    "https://www.daniweb.com/programming/computer-science/tutorials/541811/question-answering-with-youtube-videos-using-rag-in-langchain\n",
    "\n",
    "For my other articles for Daniweb.com, please see this link:\n",
    "\n",
    "https://www.daniweb.com/members/1235222/usmanmalik57"
   ]
  },
  {
   "cell_type": "markdown",
   "id": "7889c712",
   "metadata": {},
   "source": [
    "## Importing and Installing Required Libraries"
   ]
  },
  {
   "cell_type": "code",
   "execution_count": 1,
   "id": "414e048b",
   "metadata": {},
   "outputs": [],
   "source": [
    "!pip install -qU langchain \n",
    "!pip install -qU langchain-community \n",
    "!pip install -qU langchain-openai \n",
    "!pip install -qU youtube-transcript-api \n",
    "!pip install -qU pytube \n",
    "!pip install -qU chromadb\n",
    "!pip install -qU faiss-cpu"
   ]
  },
  {
   "cell_type": "code",
   "execution_count": 30,
   "id": "edde6ee0",
   "metadata": {},
   "outputs": [],
   "source": [
    "from langchain_community.document_loaders import YoutubeLoader\n",
    "from langchain_openai import ChatOpenAI\n",
    "from langchain_core.prompts import ChatPromptTemplate\n",
    "from langchain_core.output_parsers import StrOutputParser\n",
    "from langchain.text_splitter import RecursiveCharacterTextSplitter\n",
    "from langchain_openai import OpenAIEmbeddings\n",
    "from langchain_community.vectorstores import FAISS\n",
    "from langchain.chains.combine_documents import create_stuff_documents_chain\n",
    "from langchain.chains import create_retrieval_chain\n",
    "from langchain_core.documents import Document\n",
    "from langchain.chains import create_history_aware_retriever\n",
    "from langchain_core.prompts import MessagesPlaceholder\n",
    "from langchain_core.messages import HumanMessage, AIMessage\n",
    "import os"
   ]
  },
  {
   "cell_type": "markdown",
   "id": "749e4e19",
   "metadata": {},
   "source": [
    "## Creating Text Documents from YouTube Videos"
   ]
  },
  {
   "cell_type": "code",
   "execution_count": 58,
   "id": "1948288d",
   "metadata": {},
   "outputs": [
    {
     "name": "stdout",
     "output_type": "stream",
     "text": [
      "=====================================\n",
      "Total number of videos: 9\n",
      "=====================================\n",
      "Contents of video 1\n",
      "=====================================\n",
      "page_content=\"Paris the City of Lights love and endless magic this magical City always has something fun to do thanks to its long past famous landmarks and Lively culture Paris has something for everyone you can take a walk along the scene eat delicious sweets or look at worldclass art at the Louver but there is so much to see and do how do you decide what to do first don't worry viewers we've put together the best list of the 10 best things to do in Paris so let's talk about them one by one 10 Mont Marr Mont Marr is a cute area on a hill with great views of Paris well-known artists who lived and worked in and around Mont Marr like to hang out there Mont Marr's pretty streets and interesting people gave artists like Picasso and Van GA ideas you can still see paintings and other artists at work on their next projects the famous sakre cord church is at the top of the hill it is an important political and cultural landmark and a work of architecture that will Amaze you the cute little Farms close to the Mont Marr Museum and the Church of St Pierre next door are not to be missed nine Notre Dame the famous medieval gothic church Notre Dame de Paris whose name means Our Lady of Paris is on an island in the middle of Paris called E de laite there are many beautiful Gothic features in architectural details in the church before Napoleon saved it from destruction most of Notre Dame was built in the 1300s it was badly damaged during the French Revolution but Napoleon used it to name himself emperor of France there is a story called The Hunchback of Notre Dame that is linked to the church eight caroms of Paris visit the catacombs of Paris to see the impressive Paris below the city's busy streets this is a shadowy world of tunnels and Halls the catacombs are an underground network of tunnels that hold the bodies of more than 6 million people they were built in the 18th century to cut down on the number of Graves in Paris which were getting too crowded you can tell which street you are on by the signs as you walk through the tunnels you can also see the names of the cemeteries from which the bodies were moved seven Eiffel Tower people from all over the world come to see the Eiffel Tower which is one of the most famous and well-known landmarks in the world when you count the top the Eiffel Tower is 1,63 ft tall making it the biggest building in Paris it was built in 1889 by the engineer gusta fifel company as an entrance to the world's fair that year and it was originally meant to be torn down afterward it was criticized at first by a lot of well-known Parisian painters there are three floors in the tower if you don't want to take the the lift you can walk up the 674 stairs to get to the second floor six museums there are more than 100 museums in Paris the Lou which is the world's biggest Art Museum and home to some of the most famous works of art including Leonardo da Vinci's Mona Lisa is the most famous Museum in Paris you can start the Tour by going through a beautiful Glass Tower Les invalides is a group of buildings and monum ments that honor France's military past the tomb of Napoleon is one of these the pompo center is home to the biggest Museum of Modern Art in Europe it was built in the style of a high-tech building five Champs ales the Avenue de champel lies is a famous street in the middle of Paris that is 1.2 Mi long and is thought to be one of the most famous in the world it has a lot of high-end stores restaurants and coffee shops the military parade for bestill day takes place every year on the Champs ilis which is also the finish line of the tour to France bike race before it became a popular Street in the late 1700s the area was mostly made up of farms and gardens The Arc to triumphi marks the end of the Champs lies on the west side for parks and Gardens there are many lovely parks and grounds in Paris where you can walk jog read a book or or just Tak in the atmosphere and experience how people live in Paris here are some of the best Gardens in the 19th and 20th centuries parisians like to get together in the twery garden which is right next to the Louver it was built in 1612 as a park for the luxemborg palace which is now the home of the French Senate W de Vincent is the city's biggest public park it has grounds a zoo a Botanical Garden a castle and other fun things to do there are many more parks in Paris three perach Cemetery perach Cemetery was founded in 1804 it is the biggest cemetery in Paris and is thought to be the world's busiest graveyard the graveyard is where many famous people are buried such as Jim Morrison adith PF Balzac and Oscar wild this huge over 100 Acre Cemetery has many streets where you can walk and look at the gothic Graves burial rooms and old mosle limbs there are 70,000 graves in the graveyard T La defense La defense is the biggest business area in Europe it has many of paris's tallest buildings and a big shopping mall with lots of restaurants and movie theaters L Grande Arc a 364t tall cube-shaped skyscraper that looks like the shape of the arc di Triumph is an impressive modern architectural Wonder in La defense while you're up there you can see that the building is perfectly lined up with The Arc D trium which is over 2 miles away in the middle of Paris one versales from 1682 until the French Revolution began in 1789 the Palace of verses was the Grand Home of the king of France lco is named Chateau de versales a world heritage site it is about 12 mil from the center of Paris the visit gives you a look into how rich the French royal family lived before the French Revolution you can walk through the large grounds of for sales the Royal Apartments the Royal Opera and the Royal Hall of Mirrors if you had just one day to experience Paris to the fullest which of the top 10 things to do would you prioritize and why share your thoughts in the comments and also share this video with your friends don't forget to subscribe be to our Channel and press the Bell icon so you can never miss our video\" metadata={'source': 'C5BkxbbLbIY', 'title': 'Top 10 Things to Do in Paris - France 2024', 'description': 'Unknown', 'view_count': 148, 'thumbnail_url': 'https://i.ytimg.com/vi/C5BkxbbLbIY/hq720.jpg', 'publish_date': '2024-02-27 00:00:00', 'length': 424, 'author': 'Travel Mood'}\n"
     ]
    }
   ],
   "source": [
    "urls = [\n",
    "    \"https://www.youtube.com/watch?v=C5BkxbbLbIY\",\n",
    "    \"https://www.youtube.com/watch?v=7qbJvucsU-Y\",\n",
    "    \"https://www.youtube.com/watch?v=DNNMS7l6A-g\",\n",
    "    \"https://www.youtube.com/watch?v=1rh-P2N0DR4\",\n",
    "    \"https://www.youtube.com/watch?v=AW2kppo3rtI\",\n",
    "    \"https://www.youtube.com/watch?v=lznP52OEpQk\",\n",
    "    \"https://www.youtube.com/watch?v=ul14Qs24-s8\",\n",
    "    \"https://www.youtube.com/watch?v=sB3N0ZqjPyM\",\n",
    "    \"https://www.youtube.com/watch?v=JG1zkvwrn3E\"\n",
    "]\n",
    "docs = []\n",
    "for url in urls:\n",
    "    docs.extend(YoutubeLoader.from_youtube_url(url, add_video_info=True).load())\n",
    "    \n",
    "    \n",
    "print(\"=====================================\")\n",
    "print(f\"Total number of videos: {len(docs)}\")\n",
    "print(\"=====================================\")\n",
    "print(\"Contents of video 1\")\n",
    "print(\"=====================================\")\n",
    "print(docs[0])"
   ]
  },
  {
   "cell_type": "code",
   "execution_count": 43,
   "id": "5ed356d3",
   "metadata": {},
   "outputs": [
    {
     "data": {
      "text/plain": [
       "langchain_core.documents.base.Document"
      ]
     },
     "execution_count": 43,
     "metadata": {},
     "output_type": "execute_result"
    }
   ],
   "source": [
    "type(docs[0])"
   ]
  },
  {
   "cell_type": "markdown",
   "id": "ae5ac70f",
   "metadata": {},
   "source": [
    "## Splitting and Embedding YouTube Video Documents"
   ]
  },
  {
   "cell_type": "code",
   "execution_count": 44,
   "id": "e52ab891",
   "metadata": {},
   "outputs": [],
   "source": [
    "openai_key = os.environ.get('OPENAI_KEY2')"
   ]
  },
  {
   "cell_type": "code",
   "execution_count": 45,
   "id": "30f80e55",
   "metadata": {},
   "outputs": [],
   "source": [
    "text_splitter = RecursiveCharacterTextSplitter(\n",
    "    chunk_size=1000,\n",
    "    chunk_overlap=200,\n",
    "    length_function=len,\n",
    ")\n",
    "\n",
    "text_splitter = RecursiveCharacterTextSplitter()\n",
    "documents = text_splitter.split_documents(docs)"
   ]
  },
  {
   "cell_type": "code",
   "execution_count": 46,
   "id": "a601bcd7",
   "metadata": {},
   "outputs": [],
   "source": [
    "embeddings = OpenAIEmbeddings(openai_api_key = openai_key)\n",
    "vector = FAISS.from_documents(documents, embeddings)"
   ]
  },
  {
   "cell_type": "markdown",
   "id": "c9b9dcfe",
   "metadata": {},
   "source": [
    "## Question Answering with YouTube Videos"
   ]
  },
  {
   "cell_type": "code",
   "execution_count": 47,
   "id": "ea544bce",
   "metadata": {},
   "outputs": [],
   "source": [
    "llm = ChatOpenAI(\n",
    "    openai_api_key = openai_key ,\n",
    "    model = 'gpt-4',\n",
    "    temperature = 0.5\n",
    ")\n",
    "\n",
    "retriever = vector.as_retriever()"
   ]
  },
  {
   "cell_type": "code",
   "execution_count": 48,
   "id": "28049ee6",
   "metadata": {},
   "outputs": [],
   "source": [
    "prompt = ChatPromptTemplate.from_messages([\n",
    "    MessagesPlaceholder(variable_name=\"chat_history\"),\n",
    "    (\"user\", \"{input}\"),\n",
    "    (\"user\", \"Given the above conversation, generate a search query to look up in order to get information relevant to the conversation\")\n",
    "])\n",
    "\n",
    "history_retriever_chain = create_history_aware_retriever(llm, retriever, prompt)"
   ]
  },
  {
   "cell_type": "code",
   "execution_count": 49,
   "id": "a509d83d",
   "metadata": {},
   "outputs": [],
   "source": [
    "prompt = ChatPromptTemplate.from_messages([\n",
    "    (\"system\", \"Answer the user's questions based on the below context:\\n\\n{context}\"),\n",
    "    MessagesPlaceholder(variable_name=\"chat_history\"),\n",
    "    (\"user\", \"{input}\")\n",
    "])\n",
    "document_chain = create_stuff_documents_chain(llm, prompt)"
   ]
  },
  {
   "cell_type": "code",
   "execution_count": 50,
   "id": "2a0a9ce0",
   "metadata": {},
   "outputs": [],
   "source": [
    "retrieval_chain = create_retrieval_chain(history_retriever_chain, document_chain)"
   ]
  },
  {
   "cell_type": "code",
   "execution_count": 51,
   "id": "637beb6c",
   "metadata": {},
   "outputs": [
    {
     "name": "stdout",
     "output_type": "stream",
     "text": [
      "The top three things to do based on the context are: \n",
      "\n",
      "1. Visiting the top of the Ark (Arc de Triomphe) for a view of the city.\n",
      "2. Having a picnic near the Eiffel Tower with food from a local market.\n",
      "3. Renting bikes and riding around the city with no specific destination.\n"
     ]
    }
   ],
   "source": [
    "result = retrieval_chain.invoke({\n",
    "    \"chat_history\": [],\n",
    "    \"input\": \"What are the top 3 things to do?\"\n",
    "})\n",
    "\n",
    "print(result['answer'])"
   ]
  },
  {
   "cell_type": "markdown",
   "id": "bd0b7744",
   "metadata": {},
   "source": [
    "## A Command Line YouTube Question Answering Chatbot"
   ]
  },
  {
   "cell_type": "code",
   "execution_count": 52,
   "id": "9bd519c7",
   "metadata": {},
   "outputs": [],
   "source": [
    "chat_history = []\n",
    "\n",
    "def generate_response_with_memory(query):\n",
    "    result = retrieval_chain.invoke({\n",
    "    \"chat_history\": chat_history,\n",
    "    \"input\": query\n",
    "    })\n",
    "\n",
    "    response = result['answer']\n",
    "    chat_history.extend([HumanMessage(content = query),\n",
    "                       AIMessage(content = response)])\n",
    "    \n",
    "    return response"
   ]
  },
  {
   "cell_type": "code",
   "execution_count": 55,
   "id": "3b29149f",
   "metadata": {},
   "outputs": [
    {
     "name": "stdout",
     "output_type": "stream",
     "text": [
      "=======================================================================\n",
      "A Chatbot that tells you things to do in Paris. Enter your query\n",
      "=======================================================================\n",
      " User >>:What are the absolute top 3 things to do?\n",
      "\u001b[1m Chatbot>>:\u001b[0m Based on the context, the top three things to do would be to visit the Arc de Triomphe and go to the top for an amazing view of the city, have a picnic near the Eiffel Tower, and rent bikes to ride around the city with no specific destination.\n",
      " User >>:what about the food?\n",
      "\u001b[1m Chatbot>>:\u001b[0m The context mentions several French dishes that you should try when you're in Paris. These include frog legs, which are described as soft and tender with a lot of garlic, a dish called \"coco van,\" which is chicken in a red wine sauce stewed for a long time with onions, bacon, and mushrooms, and a dessert called \"creme brulee,\" which is a cream dessert with a caramelized sugar top. There's also mention of French pastries and baked goods, specifically macarons and eclairs, which are highly recommended.\n",
      " User >>:What are some water activities?\n",
      "\u001b[1m Chatbot>>:\u001b[0m The context mentions taking a Seine River Cruise as a water activity. This cruise offers a unique perspective of the city, especially at night when the city lights up. The recommended cruise lasts about an hour and you get to see the Eiffel Tower glitter as you return.\n",
      " User >>:bye\n",
      "\u001b[1m Chatbot>>:\u001b[0m Thank you for your messages, have a good day!\n"
     ]
    }
   ],
   "source": [
    "print(\"=======================================================================\")\n",
    "print(\"A Chatbot that tells you things to do in Paris. Enter your query\")\n",
    "print(\"=======================================================================\")\n",
    "\n",
    "query = \"\"\n",
    "while query != \"bye\":\n",
    "    query = input(\"\\033[1m User >>:\\033[0m\")\n",
    "    \n",
    "    if query == \"bye\":\n",
    "        chat_history = []\n",
    "        print(\"\\033[1m Chatbot>>:\\033[0m Thank you for your messages, have a good day!\")\n",
    "        break\n",
    "    response = generate_response_with_memory(query)\n",
    "    print(f\"\\033[1m Chatbot>>:\\033[0m {response}\")\n"
   ]
  },
  {
   "cell_type": "code",
   "execution_count": null,
   "id": "94efa1a6",
   "metadata": {},
   "outputs": [],
   "source": []
  }
 ],
 "metadata": {
  "kernelspec": {
   "display_name": "Python 3 (ipykernel)",
   "language": "python",
   "name": "python3"
  },
  "language_info": {
   "codemirror_mode": {
    "name": "ipython",
    "version": 3
   },
   "file_extension": ".py",
   "mimetype": "text/x-python",
   "name": "python",
   "nbconvert_exporter": "python",
   "pygments_lexer": "ipython3",
   "version": "3.11.4"
  }
 },
 "nbformat": 4,
 "nbformat_minor": 5
}
