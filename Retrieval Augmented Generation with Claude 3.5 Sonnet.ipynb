{
 "cells": [
  {
   "cell_type": "markdown",
   "id": "7ca19eb8",
   "metadata": {},
   "source": [
    "## Detailed Article Explaination\n",
    "\n",
    "The detailed code explanation for this article is available at the following link:\n",
    "\n",
    "https://www.daniweb.com/programming/computer-science/tutorials/542136/retrieval-augmented-generation-with-claude-3-5-sonnet\n",
    "\n",
    "For my other articles for Daniweb.com, please see this link:\n",
    "\n",
    "https://www.daniweb.com/members/1235222/usmanmalik57"
   ]
  },
  {
   "cell_type": "markdown",
   "id": "935107be",
   "metadata": {},
   "source": [
    "## Installing and Importing Required Libraries"
   ]
  },
  {
   "cell_type": "code",
   "execution_count": null,
   "id": "448345c9",
   "metadata": {},
   "outputs": [],
   "source": [
    "!pip install -U langchain\n",
    "!pip install -U langchain-anthropic\n",
    "!pip install langchain-openai\n",
    "!pip install pypdf\n",
    "!pip install faiss-cpu"
   ]
  },
  {
   "cell_type": "code",
   "execution_count": 1,
   "id": "a076aab5",
   "metadata": {},
   "outputs": [],
   "source": [
    "from langchain_anthropic import ChatAnthropic\n",
    "\n",
    "from langchain_core.prompts import ChatPromptTemplate\n",
    "from langchain_core.output_parsers import StrOutputParser\n",
    "from langchain_community.document_loaders import PyPDFLoader\n",
    "from langchain.text_splitter import RecursiveCharacterTextSplitter\n",
    "from langchain_openai import OpenAIEmbeddings\n",
    "from langchain_community.vectorstores import FAISS\n",
    "from langchain.chains.combine_documents import create_stuff_documents_chain\n",
    "from langchain.chains import create_retrieval_chain\n",
    "from langchain_core.documents import Document\n",
    "from langchain.chains import create_history_aware_retriever\n",
    "from langchain_core.prompts import MessagesPlaceholder\n",
    "from langchain_core.messages import HumanMessage, AIMessage\n",
    "import os\n"
   ]
  },
  {
   "cell_type": "markdown",
   "id": "471fe398",
   "metadata": {},
   "source": [
    "## Generating Default Response with Claude 3.5 Sonnet"
   ]
  },
  {
   "cell_type": "code",
   "execution_count": 5,
   "id": "58856325",
   "metadata": {},
   "outputs": [
    {
     "name": "stdout",
     "output_type": "stream",
     "text": [
      "Here's a funny poem for an ice cream shop on a beach:\n",
      "\n",
      "Sandy Scoops and Beachy Treats\n",
      "\n",
      "Come one, come all, to our beachside parlor,\n",
      "Where ice cream's the star, and fun's the caller!\n",
      "Our cones are crispy, our flavors are wacky,\n",
      "(Just don't drop your scoop, or things might get tacky!)\n",
      "\n",
      "Try our Sunburn Strawberry, it's sure to cool,\n",
      "Or Coconut Castaway, it's simply rule!\n",
      "Shark Bite Chocolate will give you a thrill,\n",
      "While Seagull Surprise might fit the bill!\n",
      "\n",
      "We've got sprinkles that sparkle like ocean spray,\n",
      "And toppings so wild, they'll make your day!\n",
      "But watch out for the crabs, they love our cream,\n",
      "They'll pinch at your toes and make you scream!\n",
      "\n",
      "So grab a spoon, or better yet, two,\n",
      "And dive into flavors both frosty and new.\n",
      "At Sandy Scoops, we promise delight,\n",
      "Just keep your ice cream away from the gulls in flight!\n"
     ]
    }
   ],
   "source": [
    "anthropic_api_key = os.environ.get('ANTHROPIC_API_KEY')\n",
    "\n",
    "llm = ChatAnthropic(model=\"claude-3-5-sonnet-20240620\",\n",
    "                     anthropic_api_key = anthropic_api_key,\n",
    "                     temperature = 0.3)\n",
    "\n",
    "result = llm.invoke(\"Write a funny poem for an ice cream shop on a beach.\")\n",
    "print(result.content)"
   ]
  },
  {
   "cell_type": "code",
   "execution_count": 7,
   "id": "c43ce1d1",
   "metadata": {},
   "outputs": [
    {
     "name": "stdout",
     "output_type": "stream",
     "text": [
      "Here's a funny poem for a music store on a beach:\n",
      "\n",
      "Sandy Tunes and Salty Strings\n",
      "\n",
      "Our beach-side shop's a musical treat,\n",
      "Where waves and melodies sweetly meet.\n",
      "We've got ukuleles for your luau nights,\n",
      "And waterproof headphones for aquatic delights.\n",
      "\n",
      "Our guitars are coated in sunscreen, you see,\n",
      "To protect them from that harsh UV.\n",
      "Our drums are filled with shells and sand,\n",
      "Perfect for your beachfront band.\n",
      "\n",
      "Our sheet music's printed on inflatable rafts,\n",
      "So your tunes can float with summer's drafts.\n",
      "Our microphones are shaped like ice cream cones,\n",
      "For those cool vocals and smooth baritones.\n",
      "\n",
      "So come on in, don't be a beach bum,\n",
      "We've got instruments to make your vacation hum.\n",
      "Just watch out for the singing crabs in aisle three,\n",
      "They're our in-house band – admission's free!\n"
     ]
    }
   ],
   "source": [
    "prompt = ChatPromptTemplate.from_messages([\n",
    "    (\"system\", '{assistant}'),\n",
    "    (\"user\", \"{input}\")\n",
    "])\n",
    "\n",
    "output_parser = StrOutputParser()\n",
    "\n",
    "chain = prompt | llm | output_parser\n",
    "\n",
    "result = chain.invoke(\n",
    "    {\"assistant\": \"You are a comedian\",\n",
    "     \"input\": \"Write a funny poem for a music store on a beach.\"}\n",
    ")\n",
    "print(result)"
   ]
  },
  {
   "cell_type": "markdown",
   "id": "5ab7491f",
   "metadata": {},
   "source": [
    "\n",
    "## RAG with Claude 3.5 Sonnet"
   ]
  },
  {
   "cell_type": "markdown",
   "id": "96da5eca",
   "metadata": {},
   "source": [
    "### Step 1: Loading and Splitting Documents"
   ]
  },
  {
   "cell_type": "code",
   "execution_count": 8,
   "id": "720d3fe1",
   "metadata": {},
   "outputs": [],
   "source": [
    "loader = PyPDFLoader(\"https://web.archive.org/web/20170809122528id_/http://global-settlement.org/pub/The%20English%20Constitution%20-%20by%20Walter%20Bagehot.pdf\")\n",
    "docs = loader.load_and_split()"
   ]
  },
  {
   "cell_type": "markdown",
   "id": "9c9caf4f",
   "metadata": {},
   "source": [
    "### Step 2: Creating Embeddings"
   ]
  },
  {
   "cell_type": "code",
   "execution_count": 10,
   "id": "85ea0ba4",
   "metadata": {},
   "outputs": [],
   "source": [
    "openai_key = os.environ.get('OPENAI_API_KEY')\n",
    "\n",
    "embeddings = OpenAIEmbeddings(openai_api_key = openai_key)\n",
    "\n",
    "text_splitter = RecursiveCharacterTextSplitter()\n",
    "documents = text_splitter.split_documents(docs)\n",
    "vector = FAISS.from_documents(documents, embeddings)"
   ]
  },
  {
   "cell_type": "markdown",
   "id": "aa9e2870",
   "metadata": {},
   "source": [
    "### Step 3: Crafting the Prompt Template"
   ]
  },
  {
   "cell_type": "code",
   "execution_count": 11,
   "id": "a5ed6771",
   "metadata": {},
   "outputs": [],
   "source": [
    "prompt = ChatPromptTemplate.from_template(\"\"\"Answer the following question based only on the provided context:\n",
    "\n",
    "Question: {input}\n",
    "\n",
    "Context: {context}\n",
    "\"\"\"\n",
    ")\n",
    "\n",
    "document_chain = create_stuff_documents_chain(llm, prompt)"
   ]
  },
  {
   "cell_type": "markdown",
   "id": "50fa67df",
   "metadata": {},
   "source": [
    "### Step 4: Setting Up the Retriever"
   ]
  },
  {
   "cell_type": "code",
   "execution_count": 12,
   "id": "7cc85b7e",
   "metadata": {},
   "outputs": [],
   "source": [
    "retriever = vector.as_retriever()\n",
    "retrieval_chain = create_retrieval_chain(retriever, document_chain)"
   ]
  },
  {
   "cell_type": "markdown",
   "id": "e76fd8c8",
   "metadata": {},
   "source": [
    "### Step 5: Generating Responses"
   ]
  },
  {
   "cell_type": "code",
   "execution_count": 13,
   "id": "3a388119",
   "metadata": {},
   "outputs": [],
   "source": [
    "def generate_response(query):\n",
    "    response = retrieval_chain.invoke({\"input\": query})\n",
    "    print(response[\"answer\"])"
   ]
  },
  {
   "cell_type": "code",
   "execution_count": 15,
   "id": "09cf846b",
   "metadata": {},
   "outputs": [
    {
     "name": "stdout",
     "output_type": "stream",
     "text": [
      "Based on the provided context, the total number of members of the House of Commons is 658. This can be seen in the following excerpt:\n",
      "\n",
      "\"Here are 658 persons, collected from all parts of England, different in nature, different in interests, different in look, and language.\"\n"
     ]
    }
   ],
   "source": [
    "query = \"What is the total number of members of the house of commons?\"\n",
    "generate_response(query)"
   ]
  },
  {
   "cell_type": "code",
   "execution_count": 18,
   "id": "6664118f",
   "metadata": {},
   "outputs": [
    {
     "name": "stdout",
     "output_type": "stream",
     "text": [
      "Based on the provided context, here are the key differences between the House of Lords and House of Commons:\n",
      "\n",
      "1. Composition:\n",
      "- House of Lords: Consists of peers (aristocracy) who are not elected.\n",
      "- House of Commons: Consists of elected members representing constituencies.\n",
      "\n",
      "2. Power and influence:\n",
      "- House of Lords: Has less power and influence, mainly acts as a revising chamber.\n",
      "- House of Commons: Has more power and is the main legislative body.\n",
      "\n",
      "3. Accountability:\n",
      "- House of Lords: Not accountable to constituents, more independent.\n",
      "- House of Commons: Accountable to constituents, influenced by public opinion.\n",
      "\n",
      "4. Activity level:\n",
      "- House of Lords: Described as less active, with fewer members regularly participating.\n",
      "- House of Commons: More active, with higher attendance and participation.\n",
      "\n",
      "5. Social influence:\n",
      "- House of Lords: Seen as \"corruptors\" who give social bribes.\n",
      "- House of Commons: Some members influenced by social bribes from aristocracy.\n",
      "\n",
      "Regarding how members are elected:\n",
      "\n",
      "- House of Lords: Members are not elected. They are mostly hereditary peers or appointed life peers.\n",
      "\n",
      "- House of Commons: Members are elected by the public in their respective constituencies through general elections.\n",
      "\n",
      "The context does not provide detailed information on the specific election process for the House of Commons.\n"
     ]
    }
   ],
   "source": [
    "query = \"What is the difference between the house of lords and house of commons? How members are elected for both?\"\n",
    "generate_response(query)"
   ]
  },
  {
   "cell_type": "code",
   "execution_count": 19,
   "id": "2eae94ca",
   "metadata": {},
   "outputs": [
    {
     "name": "stdout",
     "output_type": "stream",
     "text": [
      "I apologize, but I cannot answer the question \"How many players participate in a football game?\" based solely on the provided context. The given text does not contain any information about football or the number of players in a football game. The context appears to be discussing political systems, voting, and parliamentary representation. It does not mention anything related to football or sports in general.\n"
     ]
    }
   ],
   "source": [
    "query = \"How many players participate in a football game?\"\n",
    "generate_response(query)"
   ]
  },
  {
   "cell_type": "code",
   "execution_count": null,
   "id": "3b3d65c1",
   "metadata": {},
   "outputs": [],
   "source": []
  }
 ],
 "metadata": {
  "kernelspec": {
   "display_name": "Python 3 (ipykernel)",
   "language": "python",
   "name": "python3"
  },
  "language_info": {
   "codemirror_mode": {
    "name": "ipython",
    "version": 3
   },
   "file_extension": ".py",
   "mimetype": "text/x-python",
   "name": "python",
   "nbconvert_exporter": "python",
   "pygments_lexer": "ipython3",
   "version": "3.11.4"
  }
 },
 "nbformat": 4,
 "nbformat_minor": 5
}
