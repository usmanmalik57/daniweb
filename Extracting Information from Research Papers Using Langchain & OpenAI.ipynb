{
 "cells": [
  {
   "cell_type": "markdown",
   "id": "7d4f68ff",
   "metadata": {},
   "source": [
    "## Detailed article explaination\n",
    "\n",
    "The detailed code explanation for this article is available at the following link:\n",
    "\n",
    "https://www.daniweb.com/programming/computer-science/tutorials/541151/extracting-information-from-research-papers-using-langchain-openai\n",
    "\n",
    "For my other articles for Daniweb.com, please see this link:\n",
    "\n",
    "https://www.daniweb.com/members/1235222/usmanmalik57"
   ]
  },
  {
   "cell_type": "markdown",
   "id": "be2b794b",
   "metadata": {},
   "source": [
    "## Downloading and Importing Required Libraries"
   ]
  },
  {
   "cell_type": "code",
   "execution_count": null,
   "id": "55f2b248",
   "metadata": {},
   "outputs": [],
   "source": [
    "!pip install langchain\n",
    "!pip install openai\n",
    "!pip install PyPDF2\n",
    "!pip install faiss-cpu\n",
    "!pip install tiktoken\n",
    "!pip install rich"
   ]
  },
  {
   "cell_type": "code",
   "execution_count": null,
   "id": "d838aaa8",
   "metadata": {},
   "outputs": [],
   "source": [
    "from PyPDF2 import PdfReader\n",
    "from langchain.embeddings.openai import OpenAIEmbeddings\n",
    "from langchain.text_splitter import CharacterTextSplitter\n",
    "from langchain.vectorstores import FAISS"
   ]
  },
  {
   "cell_type": "code",
   "execution_count": null,
   "id": "77bbf19e",
   "metadata": {},
   "outputs": [],
   "source": [
    "import os\n",
    "os.environ[\"OPENAI_API_KEY\"] = \"YOUR_API_KEY_HERE\""
   ]
  },
  {
   "cell_type": "markdown",
   "id": "93247767",
   "metadata": {},
   "source": [
    "## Reading and Chunking Text Documents"
   ]
  },
  {
   "cell_type": "code",
   "execution_count": null,
   "id": "87b70677",
   "metadata": {},
   "outputs": [],
   "source": [
    "pdf_reader = PdfReader(r'D:\\Datasets\\1907.11692.pdf')"
   ]
  },
  {
   "cell_type": "code",
   "execution_count": null,
   "id": "df6ed199",
   "metadata": {},
   "outputs": [],
   "source": [
    "from typing_extensions import Concatenate\n",
    "\n",
    "pdf_text = ''\n",
    "for i, page in enumerate(pdf_reader.pages):\n",
    "    page_content = page.extract_text()\n",
    "    if page_content:\n",
    "        pdf_text += page_content"
   ]
  },
  {
   "cell_type": "code",
   "execution_count": null,
   "id": "1b4afcaa",
   "metadata": {},
   "outputs": [],
   "source": [
    "pdf_text"
   ]
  },
  {
   "cell_type": "code",
   "execution_count": null,
   "id": "99602102",
   "metadata": {},
   "outputs": [],
   "source": [
    "splitter = CharacterTextSplitter(\n",
    "    separator = \"\\n\",\n",
    "    chunk_size = 1000,\n",
    "    chunk_overlap  = 200,\n",
    "    length_function = len,\n",
    ")\n",
    "text_chunks = splitter.split_text(pdf_text)\n",
    "print(f\"Total chunks {len(text_chunks)}\")\n",
    "print(\"============================\")\n",
    "print(text_chunks[0])"
   ]
  },
  {
   "cell_type": "code",
   "execution_count": null,
   "id": "cc2d2f29",
   "metadata": {},
   "outputs": [],
   "source": [
    "embeddings = OpenAIEmbeddings()\n",
    "embedding_vectors = FAISS.from_texts(text_chunks, embeddings)"
   ]
  },
  {
   "cell_type": "markdown",
   "id": "921649ff",
   "metadata": {},
   "source": [
    "## Extracting Information from Research Papers"
   ]
  },
  {
   "cell_type": "code",
   "execution_count": null,
   "id": "9f33e78f",
   "metadata": {},
   "outputs": [],
   "source": [
    "from langchain.chains.question_answering import load_qa_chain\n",
    "from langchain.llms import OpenAI\n",
    "\n",
    "qa_chain = load_qa_chain(OpenAI(), \n",
    "                         chain_type=\"stuff\")"
   ]
  },
  {
   "cell_type": "code",
   "execution_count": null,
   "id": "c9862816",
   "metadata": {},
   "outputs": [],
   "source": [
    "question = \"Can you give me a list of datasets used in this paper?\"\n",
    "\n",
    "research_paper = embedding_vectors.similarity_search(question)\n",
    "\n",
    "qa_chain.run(input_documents = research_paper, \n",
    "             question = question)"
   ]
  },
  {
   "cell_type": "code",
   "execution_count": null,
   "id": "65c61b34",
   "metadata": {},
   "outputs": [],
   "source": [
    "question = \"Can you summarize the benchmark results from the paper?\"\n",
    "\n",
    "research_paper = embedding_vectors.similarity_search(question)\n",
    "\n",
    "qa_chain.run(input_documents = research_paper, \n",
    "             question = question)"
   ]
  },
  {
   "cell_type": "code",
   "execution_count": null,
   "id": "c526b17c",
   "metadata": {},
   "outputs": [],
   "source": [
    "def get_answer(questions):\n",
    "    \n",
    "    answers = []\n",
    "    for question in questions:\n",
    "        \n",
    "        research_paper = embedding_vectors.similarity_search(question)\n",
    "\n",
    "        answer = qa_chain.run(input_documents = research_paper, \n",
    "                 question = question)\n",
    "        \n",
    "        answers.append(answer)\n",
    "    \n",
    "    return answers"
   ]
  },
  {
   "cell_type": "code",
   "execution_count": null,
   "id": "21a18cbc",
   "metadata": {},
   "outputs": [],
   "source": [
    "from rich import print\n",
    "\n",
    "questions = [\"Can you give me a list of datasets used in this paper?\",\n",
    "             \"What are the evaluation metrics used in the paper?\",\n",
    "             \"Can you summarize the benchmark results from the paper?\"]\n",
    "\n",
    "answers = get_answer(questions)\n",
    "\n",
    "for i in range(len(questions)):\n",
    "    print(f\"[bold]Question: {i+1}: {questions[i]} [/bold]\")\n",
    "    print(f\"[bold]Answer:[/bold] {answers[i]}\")\n",
    "    print(\"==================================================\")\n",
    "\n"
   ]
  },
  {
   "cell_type": "code",
   "execution_count": null,
   "id": "102da42b",
   "metadata": {},
   "outputs": [],
   "source": []
  }
 ],
 "metadata": {
  "kernelspec": {
   "display_name": "Python 3 (ipykernel)",
   "language": "python",
   "name": "python3"
  },
  "language_info": {
   "codemirror_mode": {
    "name": "ipython",
    "version": 3
   },
   "file_extension": ".py",
   "mimetype": "text/x-python",
   "name": "python",
   "nbconvert_exporter": "python",
   "pygments_lexer": "ipython3",
   "version": "3.11.4"
  }
 },
 "nbformat": 4,
 "nbformat_minor": 5
}
