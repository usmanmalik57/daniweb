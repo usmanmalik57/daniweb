{
 "cells": [
  {
   "cell_type": "markdown",
   "id": "9b390d16",
   "metadata": {},
   "source": [
    "## Detailed Article Explaination\n",
    "\n",
    "The detailed code explanation for this article is available at the following link:\n",
    "\n",
    "https://www.daniweb.com/programming/computer-science/tutorials/541682/paris-olympics-chatbot-get-ticket-information-using-chat-gpt-and-langchain\n",
    "\n",
    "For my other articles for Daniweb.com, please see this link:\n",
    "\n",
    "https://www.daniweb.com/members/1235222/usmanmalik57"
   ]
  },
  {
   "cell_type": "markdown",
   "id": "41f762f9",
   "metadata": {},
   "source": [
    "## Installing and Importing Required Libraries"
   ]
  },
  {
   "cell_type": "code",
   "execution_count": 34,
   "id": "f2948ebe",
   "metadata": {},
   "outputs": [
    {
     "name": "stdout",
     "output_type": "stream",
     "text": [
      "Requirement already satisfied: langchain in c:\\users\\chetouani\\anaconda3\\lib\\site-packages (0.1.12)\n",
      "Requirement already satisfied: PyYAML>=5.3 in c:\\users\\chetouani\\anaconda3\\lib\\site-packages (from langchain) (6.0.1)\n",
      "Requirement already satisfied: SQLAlchemy<3,>=1.4 in c:\\users\\chetouani\\anaconda3\\lib\\site-packages (from langchain) (2.0.25)\n",
      "Requirement already satisfied: aiohttp<4.0.0,>=3.8.3 in c:\\users\\chetouani\\anaconda3\\lib\\site-packages (from langchain) (3.9.0)\n",
      "Requirement already satisfied: dataclasses-json<0.7,>=0.5.7 in c:\\users\\chetouani\\anaconda3\\lib\\site-packages (from langchain) (0.6.4)\n",
      "Requirement already satisfied: jsonpatch<2.0,>=1.33 in c:\\users\\chetouani\\anaconda3\\lib\\site-packages (from langchain) (1.33)\n",
      "Requirement already satisfied: langchain-community<0.1,>=0.0.28 in c:\\users\\chetouani\\anaconda3\\lib\\site-packages (from langchain) (0.0.28)\n",
      "Requirement already satisfied: langchain-core<0.2.0,>=0.1.31 in c:\\users\\chetouani\\anaconda3\\lib\\site-packages (from langchain) (0.1.32)\n",
      "Requirement already satisfied: langchain-text-splitters<0.1,>=0.0.1 in c:\\users\\chetouani\\anaconda3\\lib\\site-packages (from langchain) (0.0.1)\n",
      "Requirement already satisfied: langsmith<0.2.0,>=0.1.17 in c:\\users\\chetouani\\anaconda3\\lib\\site-packages (from langchain) (0.1.27)\n",
      "Requirement already satisfied: numpy<2,>=1 in c:\\users\\chetouani\\anaconda3\\lib\\site-packages (from langchain) (1.26.3)\n",
      "Requirement already satisfied: pydantic<3,>=1 in c:\\users\\chetouani\\anaconda3\\lib\\site-packages (from langchain) (1.10.12)\n",
      "Requirement already satisfied: requests<3,>=2 in c:\\users\\chetouani\\anaconda3\\lib\\site-packages (from langchain) (2.31.0)\n",
      "Requirement already satisfied: tenacity<9.0.0,>=8.1.0 in c:\\users\\chetouani\\anaconda3\\lib\\site-packages (from langchain) (8.2.2)\n",
      "Requirement already satisfied: attrs>=17.3.0 in c:\\users\\chetouani\\anaconda3\\lib\\site-packages (from aiohttp<4.0.0,>=3.8.3->langchain) (23.1.0)\n",
      "Requirement already satisfied: multidict<7.0,>=4.5 in c:\\users\\chetouani\\anaconda3\\lib\\site-packages (from aiohttp<4.0.0,>=3.8.3->langchain) (6.0.4)\n",
      "Requirement already satisfied: yarl<2.0,>=1.0 in c:\\users\\chetouani\\anaconda3\\lib\\site-packages (from aiohttp<4.0.0,>=3.8.3->langchain) (1.9.3)\n",
      "Requirement already satisfied: frozenlist>=1.1.1 in c:\\users\\chetouani\\anaconda3\\lib\\site-packages (from aiohttp<4.0.0,>=3.8.3->langchain) (1.4.0)\n",
      "Requirement already satisfied: aiosignal>=1.1.2 in c:\\users\\chetouani\\anaconda3\\lib\\site-packages (from aiohttp<4.0.0,>=3.8.3->langchain) (1.2.0)\n",
      "Requirement already satisfied: marshmallow<4.0.0,>=3.18.0 in c:\\users\\chetouani\\anaconda3\\lib\\site-packages (from dataclasses-json<0.7,>=0.5.7->langchain) (3.21.1)\n",
      "Requirement already satisfied: typing-inspect<1,>=0.4.0 in c:\\users\\chetouani\\anaconda3\\lib\\site-packages (from dataclasses-json<0.7,>=0.5.7->langchain) (0.9.0)\n",
      "Requirement already satisfied: jsonpointer>=1.9 in c:\\users\\chetouani\\anaconda3\\lib\\site-packages (from jsonpatch<2.0,>=1.33->langchain) (2.1)\n",
      "Requirement already satisfied: anyio<5,>=3 in c:\\users\\chetouani\\anaconda3\\lib\\site-packages (from langchain-core<0.2.0,>=0.1.31->langchain) (3.5.0)\n",
      "Requirement already satisfied: packaging<24.0,>=23.2 in c:\\users\\chetouani\\anaconda3\\lib\\site-packages (from langchain-core<0.2.0,>=0.1.31->langchain) (23.2)\n",
      "Requirement already satisfied: orjson<4.0.0,>=3.9.14 in c:\\users\\chetouani\\anaconda3\\lib\\site-packages (from langsmith<0.2.0,>=0.1.17->langchain) (3.9.15)\n",
      "Requirement already satisfied: typing-extensions>=4.2.0 in c:\\users\\chetouani\\anaconda3\\lib\\site-packages (from pydantic<3,>=1->langchain) (4.9.0)\n",
      "Requirement already satisfied: charset-normalizer<4,>=2 in c:\\users\\chetouani\\anaconda3\\lib\\site-packages (from requests<3,>=2->langchain) (2.0.4)\n",
      "Requirement already satisfied: idna<4,>=2.5 in c:\\users\\chetouani\\anaconda3\\lib\\site-packages (from requests<3,>=2->langchain) (3.4)\n",
      "Requirement already satisfied: urllib3<3,>=1.21.1 in c:\\users\\chetouani\\anaconda3\\lib\\site-packages (from requests<3,>=2->langchain) (1.26.18)\n",
      "Requirement already satisfied: certifi>=2017.4.17 in c:\\users\\chetouani\\anaconda3\\lib\\site-packages (from requests<3,>=2->langchain) (2024.2.2)\n",
      "Requirement already satisfied: greenlet!=0.4.17 in c:\\users\\chetouani\\anaconda3\\lib\\site-packages (from SQLAlchemy<3,>=1.4->langchain) (3.0.1)\n",
      "Requirement already satisfied: sniffio>=1.1 in c:\\users\\chetouani\\anaconda3\\lib\\site-packages (from anyio<5,>=3->langchain-core<0.2.0,>=0.1.31->langchain) (1.3.0)\n",
      "Requirement already satisfied: mypy-extensions>=0.3.0 in c:\\users\\chetouani\\anaconda3\\lib\\site-packages (from typing-inspect<1,>=0.4.0->dataclasses-json<0.7,>=0.5.7->langchain) (1.0.0)\n",
      "Requirement already satisfied: langchain-openai in c:\\users\\chetouani\\anaconda3\\lib\\site-packages (0.0.8)\n",
      "Requirement already satisfied: langchain-core<0.2.0,>=0.1.27 in c:\\users\\chetouani\\anaconda3\\lib\\site-packages (from langchain-openai) (0.1.32)\n",
      "Requirement already satisfied: openai<2.0.0,>=1.10.0 in c:\\users\\chetouani\\anaconda3\\lib\\site-packages (from langchain-openai) (1.14.1)\n",
      "Requirement already satisfied: tiktoken<1,>=0.5.2 in c:\\users\\chetouani\\anaconda3\\lib\\site-packages (from langchain-openai) (0.6.0)\n",
      "Requirement already satisfied: PyYAML>=5.3 in c:\\users\\chetouani\\anaconda3\\lib\\site-packages (from langchain-core<0.2.0,>=0.1.27->langchain-openai) (6.0.1)\n",
      "Requirement already satisfied: anyio<5,>=3 in c:\\users\\chetouani\\anaconda3\\lib\\site-packages (from langchain-core<0.2.0,>=0.1.27->langchain-openai) (3.5.0)\n",
      "Requirement already satisfied: jsonpatch<2.0,>=1.33 in c:\\users\\chetouani\\anaconda3\\lib\\site-packages (from langchain-core<0.2.0,>=0.1.27->langchain-openai) (1.33)\n",
      "Requirement already satisfied: langsmith<0.2.0,>=0.1.0 in c:\\users\\chetouani\\anaconda3\\lib\\site-packages (from langchain-core<0.2.0,>=0.1.27->langchain-openai) (0.1.27)\n",
      "Requirement already satisfied: packaging<24.0,>=23.2 in c:\\users\\chetouani\\anaconda3\\lib\\site-packages (from langchain-core<0.2.0,>=0.1.27->langchain-openai) (23.2)\n",
      "Requirement already satisfied: pydantic<3,>=1 in c:\\users\\chetouani\\anaconda3\\lib\\site-packages (from langchain-core<0.2.0,>=0.1.27->langchain-openai) (1.10.12)\n",
      "Requirement already satisfied: requests<3,>=2 in c:\\users\\chetouani\\anaconda3\\lib\\site-packages (from langchain-core<0.2.0,>=0.1.27->langchain-openai) (2.31.0)\n",
      "Requirement already satisfied: tenacity<9.0.0,>=8.1.0 in c:\\users\\chetouani\\anaconda3\\lib\\site-packages (from langchain-core<0.2.0,>=0.1.27->langchain-openai) (8.2.2)\n",
      "Requirement already satisfied: distro<2,>=1.7.0 in c:\\users\\chetouani\\anaconda3\\lib\\site-packages (from openai<2.0.0,>=1.10.0->langchain-openai) (1.9.0)\n",
      "Requirement already satisfied: httpx<1,>=0.23.0 in c:\\users\\chetouani\\anaconda3\\lib\\site-packages (from openai<2.0.0,>=1.10.0->langchain-openai) (0.26.0)\n",
      "Requirement already satisfied: sniffio in c:\\users\\chetouani\\anaconda3\\lib\\site-packages (from openai<2.0.0,>=1.10.0->langchain-openai) (1.3.0)\n",
      "Requirement already satisfied: tqdm>4 in c:\\users\\chetouani\\anaconda3\\lib\\site-packages (from openai<2.0.0,>=1.10.0->langchain-openai) (4.65.0)\n",
      "Requirement already satisfied: typing-extensions<5,>=4.7 in c:\\users\\chetouani\\anaconda3\\lib\\site-packages (from openai<2.0.0,>=1.10.0->langchain-openai) (4.9.0)\n",
      "Requirement already satisfied: regex>=2022.1.18 in c:\\users\\chetouani\\anaconda3\\lib\\site-packages (from tiktoken<1,>=0.5.2->langchain-openai) (2023.10.3)\n",
      "Requirement already satisfied: idna>=2.8 in c:\\users\\chetouani\\anaconda3\\lib\\site-packages (from anyio<5,>=3->langchain-core<0.2.0,>=0.1.27->langchain-openai) (3.4)\n",
      "Requirement already satisfied: certifi in c:\\users\\chetouani\\anaconda3\\lib\\site-packages (from httpx<1,>=0.23.0->openai<2.0.0,>=1.10.0->langchain-openai) (2024.2.2)\n",
      "Requirement already satisfied: httpcore==1.* in c:\\users\\chetouani\\anaconda3\\lib\\site-packages (from httpx<1,>=0.23.0->openai<2.0.0,>=1.10.0->langchain-openai) (1.0.2)\n",
      "Requirement already satisfied: h11<0.15,>=0.13 in c:\\users\\chetouani\\anaconda3\\lib\\site-packages (from httpcore==1.*->httpx<1,>=0.23.0->openai<2.0.0,>=1.10.0->langchain-openai) (0.14.0)\n",
      "Requirement already satisfied: jsonpointer>=1.9 in c:\\users\\chetouani\\anaconda3\\lib\\site-packages (from jsonpatch<2.0,>=1.33->langchain-core<0.2.0,>=0.1.27->langchain-openai) (2.1)\n",
      "Requirement already satisfied: orjson<4.0.0,>=3.9.14 in c:\\users\\chetouani\\anaconda3\\lib\\site-packages (from langsmith<0.2.0,>=0.1.0->langchain-core<0.2.0,>=0.1.27->langchain-openai) (3.9.15)\n",
      "Requirement already satisfied: charset-normalizer<4,>=2 in c:\\users\\chetouani\\anaconda3\\lib\\site-packages (from requests<3,>=2->langchain-core<0.2.0,>=0.1.27->langchain-openai) (2.0.4)\n",
      "Requirement already satisfied: urllib3<3,>=1.21.1 in c:\\users\\chetouani\\anaconda3\\lib\\site-packages (from requests<3,>=2->langchain-core<0.2.0,>=0.1.27->langchain-openai) (1.26.18)\n",
      "Requirement already satisfied: colorama in c:\\users\\chetouani\\anaconda3\\lib\\site-packages (from tqdm>4->openai<2.0.0,>=1.10.0->langchain-openai) (0.4.6)\n",
      "Requirement already satisfied: beautifulsoup4 in c:\\users\\chetouani\\anaconda3\\lib\\site-packages (4.12.2)\n",
      "Requirement already satisfied: soupsieve>1.2 in c:\\users\\chetouani\\anaconda3\\lib\\site-packages (from beautifulsoup4) (2.5)\n",
      "Requirement already satisfied: pypdf in c:\\users\\chetouani\\anaconda3\\lib\\site-packages (4.1.0)\n",
      "Collecting faiss-cpu\n",
      "  Downloading faiss_cpu-1.8.0-cp311-cp311-win_amd64.whl.metadata (3.8 kB)\n",
      "Requirement already satisfied: numpy in c:\\users\\chetouani\\anaconda3\\lib\\site-packages (from faiss-cpu) (1.26.3)\n",
      "Downloading faiss_cpu-1.8.0-cp311-cp311-win_amd64.whl (14.5 MB)\n",
      "   ---------------------------------------- 0.0/14.5 MB ? eta -:--:--\n",
      "   ---------------------------------------- 0.0/14.5 MB ? eta -:--:--\n",
      "   ---------------------------------------- 0.0/14.5 MB ? eta -:--:--\n",
      "   ---------------------------------------- 0.1/14.5 MB 656.4 kB/s eta 0:00:22\n",
      "   ---------------------------------------- 0.1/14.5 MB 944.1 kB/s eta 0:00:16\n",
      "   ---------------------------------------- 0.2/14.5 MB 871.5 kB/s eta 0:00:17\n",
      "    --------------------------------------- 0.2/14.5 MB 958.6 kB/s eta 0:00:15\n",
      "   - -------------------------------------- 0.4/14.5 MB 1.2 MB/s eta 0:00:12\n",
      "   - -------------------------------------- 0.4/14.5 MB 1.2 MB/s eta 0:00:12\n",
      "   - -------------------------------------- 0.5/14.5 MB 1.2 MB/s eta 0:00:12\n",
      "   - -------------------------------------- 0.5/14.5 MB 1.2 MB/s eta 0:00:12\n",
      "   - -------------------------------------- 0.6/14.5 MB 1.1 MB/s eta 0:00:13\n",
      "   - -------------------------------------- 0.6/14.5 MB 1.2 MB/s eta 0:00:12\n",
      "   - -------------------------------------- 0.6/14.5 MB 1.2 MB/s eta 0:00:12\n",
      "   - -------------------------------------- 0.7/14.5 MB 1.2 MB/s eta 0:00:12\n",
      "   -- ------------------------------------- 0.8/14.5 MB 1.2 MB/s eta 0:00:12\n",
      "   -- ------------------------------------- 0.9/14.5 MB 1.2 MB/s eta 0:00:12\n",
      "   -- ------------------------------------- 0.9/14.5 MB 1.2 MB/s eta 0:00:12\n",
      "   -- ------------------------------------- 1.0/14.5 MB 1.2 MB/s eta 0:00:12\n",
      "   -- ------------------------------------- 1.0/14.5 MB 1.2 MB/s eta 0:00:12\n",
      "   --- ------------------------------------ 1.1/14.5 MB 1.2 MB/s eta 0:00:11\n",
      "   --- ------------------------------------ 1.2/14.5 MB 1.2 MB/s eta 0:00:11\n",
      "   --- ------------------------------------ 1.3/14.5 MB 1.3 MB/s eta 0:00:11\n",
      "   --- ------------------------------------ 1.3/14.5 MB 1.3 MB/s eta 0:00:11\n",
      "   --- ------------------------------------ 1.4/14.5 MB 1.3 MB/s eta 0:00:11\n",
      "   ---- ----------------------------------- 1.5/14.5 MB 1.3 MB/s eta 0:00:11\n",
      "   ---- ----------------------------------- 1.6/14.5 MB 1.3 MB/s eta 0:00:11\n",
      "   ---- ----------------------------------- 1.6/14.5 MB 1.3 MB/s eta 0:00:11\n",
      "   ---- ----------------------------------- 1.6/14.5 MB 1.3 MB/s eta 0:00:11\n",
      "   ---- ----------------------------------- 1.7/14.5 MB 1.3 MB/s eta 0:00:11\n",
      "   ---- ----------------------------------- 1.8/14.5 MB 1.3 MB/s eta 0:00:11\n",
      "   ---- ----------------------------------- 1.8/14.5 MB 1.3 MB/s eta 0:00:11\n",
      "   ---- ----------------------------------- 1.8/14.5 MB 1.3 MB/s eta 0:00:11\n",
      "   ----- ---------------------------------- 1.9/14.5 MB 1.3 MB/s eta 0:00:11\n",
      "   ----- ---------------------------------- 1.9/14.5 MB 1.3 MB/s eta 0:00:11\n",
      "   ----- ---------------------------------- 2.0/14.5 MB 1.2 MB/s eta 0:00:11\n",
      "   ----- ---------------------------------- 2.0/14.5 MB 1.2 MB/s eta 0:00:11\n",
      "   ----- ---------------------------------- 2.1/14.5 MB 1.2 MB/s eta 0:00:11\n",
      "   ----- ---------------------------------- 2.1/14.5 MB 1.2 MB/s eta 0:00:11\n",
      "   ------ --------------------------------- 2.2/14.5 MB 1.2 MB/s eta 0:00:11\n",
      "   ------ --------------------------------- 2.3/14.5 MB 1.2 MB/s eta 0:00:10\n",
      "   ------ --------------------------------- 2.4/14.5 MB 1.2 MB/s eta 0:00:10\n",
      "   ------ --------------------------------- 2.4/14.5 MB 1.2 MB/s eta 0:00:10\n",
      "   ------ --------------------------------- 2.5/14.5 MB 1.2 MB/s eta 0:00:10\n",
      "   ------- -------------------------------- 2.5/14.5 MB 1.2 MB/s eta 0:00:10\n",
      "   ------- -------------------------------- 2.6/14.5 MB 1.2 MB/s eta 0:00:10\n",
      "   ------- -------------------------------- 2.7/14.5 MB 1.2 MB/s eta 0:00:10\n",
      "   ------- -------------------------------- 2.7/14.5 MB 1.2 MB/s eta 0:00:10\n",
      "   ------- -------------------------------- 2.8/14.5 MB 1.2 MB/s eta 0:00:10\n",
      "   ------- -------------------------------- 2.8/14.5 MB 1.2 MB/s eta 0:00:10\n",
      "   ------- -------------------------------- 2.8/14.5 MB 1.2 MB/s eta 0:00:10\n",
      "   ------- -------------------------------- 2.8/14.5 MB 1.2 MB/s eta 0:00:10\n",
      "   -------- ------------------------------- 2.9/14.5 MB 1.2 MB/s eta 0:00:10\n",
      "   -------- ------------------------------- 2.9/14.5 MB 1.2 MB/s eta 0:00:10\n",
      "   -------- ------------------------------- 3.0/14.5 MB 1.2 MB/s eta 0:00:10\n",
      "   -------- ------------------------------- 3.0/14.5 MB 1.2 MB/s eta 0:00:10\n",
      "   -------- ------------------------------- 3.1/14.5 MB 1.2 MB/s eta 0:00:10\n",
      "   -------- ------------------------------- 3.1/14.5 MB 1.2 MB/s eta 0:00:10\n",
      "   -------- ------------------------------- 3.1/14.5 MB 1.2 MB/s eta 0:00:10\n",
      "   -------- ------------------------------- 3.1/14.5 MB 1.1 MB/s eta 0:00:10\n",
      "   -------- ------------------------------- 3.2/14.5 MB 1.1 MB/s eta 0:00:10\n",
      "   --------- ------------------------------ 3.3/14.5 MB 1.1 MB/s eta 0:00:10\n",
      "   --------- ------------------------------ 3.3/14.5 MB 1.1 MB/s eta 0:00:10\n",
      "   --------- ------------------------------ 3.3/14.5 MB 1.1 MB/s eta 0:00:10\n",
      "   --------- ------------------------------ 3.4/14.5 MB 1.1 MB/s eta 0:00:10\n",
      "   --------- ------------------------------ 3.4/14.5 MB 1.1 MB/s eta 0:00:10\n",
      "   --------- ------------------------------ 3.4/14.5 MB 1.1 MB/s eta 0:00:10\n",
      "   --------- ------------------------------ 3.5/14.5 MB 1.1 MB/s eta 0:00:10\n",
      "   --------- ------------------------------ 3.5/14.5 MB 1.1 MB/s eta 0:00:10\n",
      "   --------- ------------------------------ 3.6/14.5 MB 1.1 MB/s eta 0:00:10\n",
      "   --------- ------------------------------ 3.6/14.5 MB 1.1 MB/s eta 0:00:10\n",
      "   ---------- ----------------------------- 3.7/14.5 MB 1.1 MB/s eta 0:00:10\n",
      "   ---------- ----------------------------- 3.7/14.5 MB 1.1 MB/s eta 0:00:10\n",
      "   ---------- ----------------------------- 3.7/14.5 MB 1.1 MB/s eta 0:00:10\n",
      "   ---------- ----------------------------- 3.8/14.5 MB 1.1 MB/s eta 0:00:10\n",
      "   ---------- ----------------------------- 3.9/14.5 MB 1.1 MB/s eta 0:00:10\n",
      "   ---------- ----------------------------- 3.9/14.5 MB 1.1 MB/s eta 0:00:10\n",
      "   ---------- ----------------------------- 3.9/14.5 MB 1.1 MB/s eta 0:00:10\n",
      "   ----------- ---------------------------- 4.0/14.5 MB 1.1 MB/s eta 0:00:10\n",
      "   ----------- ---------------------------- 4.0/14.5 MB 1.1 MB/s eta 0:00:10\n",
      "   ----------- ---------------------------- 4.1/14.5 MB 1.1 MB/s eta 0:00:10\n",
      "   ----------- ---------------------------- 4.2/14.5 MB 1.1 MB/s eta 0:00:10\n",
      "   ----------- ---------------------------- 4.2/14.5 MB 1.1 MB/s eta 0:00:10\n",
      "   ----------- ---------------------------- 4.3/14.5 MB 1.1 MB/s eta 0:00:10\n",
      "   ----------- ---------------------------- 4.3/14.5 MB 1.1 MB/s eta 0:00:10\n",
      "   ------------ --------------------------- 4.4/14.5 MB 1.1 MB/s eta 0:00:10\n",
      "   ------------ --------------------------- 4.4/14.5 MB 1.1 MB/s eta 0:00:10\n",
      "   ------------ --------------------------- 4.5/14.5 MB 1.1 MB/s eta 0:00:10\n",
      "   ------------ --------------------------- 4.5/14.5 MB 1.1 MB/s eta 0:00:10\n",
      "   ------------ --------------------------- 4.6/14.5 MB 1.1 MB/s eta 0:00:10\n",
      "   ------------ --------------------------- 4.6/14.5 MB 1.1 MB/s eta 0:00:10\n",
      "   ------------ --------------------------- 4.7/14.5 MB 1.1 MB/s eta 0:00:10\n",
      "   ------------- -------------------------- 4.7/14.5 MB 1.1 MB/s eta 0:00:09\n",
      "   ------------- -------------------------- 4.8/14.5 MB 1.1 MB/s eta 0:00:09\n",
      "   ------------- -------------------------- 4.8/14.5 MB 1.1 MB/s eta 0:00:09\n",
      "   ------------- -------------------------- 4.8/14.5 MB 1.1 MB/s eta 0:00:09\n",
      "   ------------- -------------------------- 4.9/14.5 MB 1.1 MB/s eta 0:00:09\n",
      "   ------------- -------------------------- 4.9/14.5 MB 1.1 MB/s eta 0:00:09\n",
      "   ------------- -------------------------- 5.0/14.5 MB 1.1 MB/s eta 0:00:09\n",
      "   ------------- -------------------------- 5.0/14.5 MB 1.1 MB/s eta 0:00:09\n",
      "   -------------- ------------------------- 5.1/14.5 MB 1.1 MB/s eta 0:00:09\n",
      "   -------------- ------------------------- 5.1/14.5 MB 1.1 MB/s eta 0:00:09\n",
      "   -------------- ------------------------- 5.2/14.5 MB 1.1 MB/s eta 0:00:09\n",
      "   -------------- ------------------------- 5.2/14.5 MB 1.1 MB/s eta 0:00:09\n",
      "   -------------- ------------------------- 5.3/14.5 MB 1.1 MB/s eta 0:00:09\n",
      "   -------------- ------------------------- 5.4/14.5 MB 1.1 MB/s eta 0:00:09\n",
      "   --------------- ------------------------ 5.5/14.5 MB 1.1 MB/s eta 0:00:09\n",
      "   --------------- ------------------------ 5.5/14.5 MB 1.1 MB/s eta 0:00:09\n",
      "   --------------- ------------------------ 5.6/14.5 MB 1.1 MB/s eta 0:00:09\n",
      "   --------------- ------------------------ 5.6/14.5 MB 1.1 MB/s eta 0:00:09\n",
      "   --------------- ------------------------ 5.7/14.5 MB 1.1 MB/s eta 0:00:08\n",
      "   --------------- ------------------------ 5.8/14.5 MB 1.1 MB/s eta 0:00:08\n",
      "   --------------- ------------------------ 5.8/14.5 MB 1.1 MB/s eta 0:00:08\n",
      "   ---------------- ----------------------- 5.9/14.5 MB 1.1 MB/s eta 0:00:08\n",
      "   ---------------- ----------------------- 5.9/14.5 MB 1.1 MB/s eta 0:00:08\n",
      "   ---------------- ----------------------- 6.0/14.5 MB 1.1 MB/s eta 0:00:08\n",
      "   ---------------- ----------------------- 6.1/14.5 MB 1.1 MB/s eta 0:00:08\n",
      "   ---------------- ----------------------- 6.1/14.5 MB 1.1 MB/s eta 0:00:08\n",
      "   ---------------- ----------------------- 6.1/14.5 MB 1.1 MB/s eta 0:00:08\n",
      "   ----------------- ---------------------- 6.2/14.5 MB 1.1 MB/s eta 0:00:08\n",
      "   ----------------- ---------------------- 6.2/14.5 MB 1.1 MB/s eta 0:00:08\n",
      "   ----------------- ---------------------- 6.3/14.5 MB 1.1 MB/s eta 0:00:08\n",
      "   ----------------- ---------------------- 6.3/14.5 MB 1.1 MB/s eta 0:00:08\n",
      "   ----------------- ---------------------- 6.4/14.5 MB 1.1 MB/s eta 0:00:08\n",
      "   ----------------- ---------------------- 6.4/14.5 MB 1.1 MB/s eta 0:00:08\n",
      "   ----------------- ---------------------- 6.5/14.5 MB 1.1 MB/s eta 0:00:08\n",
      "   ------------------ --------------------- 6.6/14.5 MB 1.1 MB/s eta 0:00:08\n",
      "   ------------------ --------------------- 6.6/14.5 MB 1.1 MB/s eta 0:00:08\n",
      "   ------------------ --------------------- 6.7/14.5 MB 1.1 MB/s eta 0:00:08\n",
      "   ------------------ --------------------- 6.7/14.5 MB 1.1 MB/s eta 0:00:08\n",
      "   ------------------ --------------------- 6.8/14.5 MB 1.1 MB/s eta 0:00:07\n",
      "   ------------------ --------------------- 6.9/14.5 MB 1.1 MB/s eta 0:00:07\n",
      "   ------------------- -------------------- 6.9/14.5 MB 1.1 MB/s eta 0:00:07\n",
      "   ------------------- -------------------- 7.0/14.5 MB 1.1 MB/s eta 0:00:07\n",
      "   ------------------- -------------------- 7.0/14.5 MB 1.1 MB/s eta 0:00:07\n",
      "   ------------------- -------------------- 7.1/14.5 MB 1.1 MB/s eta 0:00:07\n",
      "   ------------------- -------------------- 7.2/14.5 MB 1.1 MB/s eta 0:00:07\n",
      "   -------------------- ------------------- 7.3/14.5 MB 1.1 MB/s eta 0:00:07\n",
      "   -------------------- ------------------- 7.3/14.5 MB 1.1 MB/s eta 0:00:07\n",
      "   -------------------- ------------------- 7.4/14.5 MB 1.1 MB/s eta 0:00:07\n",
      "   -------------------- ------------------- 7.5/14.5 MB 1.1 MB/s eta 0:00:07\n",
      "   -------------------- ------------------- 7.6/14.5 MB 1.1 MB/s eta 0:00:07\n",
      "   --------------------- ------------------ 7.7/14.5 MB 1.1 MB/s eta 0:00:06\n",
      "   --------------------- ------------------ 7.8/14.5 MB 1.2 MB/s eta 0:00:06\n",
      "   --------------------- ------------------ 7.9/14.5 MB 1.2 MB/s eta 0:00:06\n",
      "   --------------------- ------------------ 8.0/14.5 MB 1.2 MB/s eta 0:00:06\n",
      "   ---------------------- ----------------- 8.0/14.5 MB 1.2 MB/s eta 0:00:06\n",
      "   ---------------------- ----------------- 8.1/14.5 MB 1.2 MB/s eta 0:00:06\n",
      "   ---------------------- ----------------- 8.2/14.5 MB 1.2 MB/s eta 0:00:06\n",
      "   ---------------------- ----------------- 8.2/14.5 MB 1.2 MB/s eta 0:00:06\n",
      "   ---------------------- ----------------- 8.3/14.5 MB 1.2 MB/s eta 0:00:06\n",
      "   ----------------------- ---------------- 8.4/14.5 MB 1.2 MB/s eta 0:00:06\n",
      "   ----------------------- ---------------- 8.5/14.5 MB 1.2 MB/s eta 0:00:06\n",
      "   ----------------------- ---------------- 8.6/14.5 MB 1.2 MB/s eta 0:00:05\n",
      "   ----------------------- ---------------- 8.7/14.5 MB 1.2 MB/s eta 0:00:05\n",
      "   ------------------------ --------------- 8.8/14.5 MB 1.2 MB/s eta 0:00:05\n",
      "   ------------------------ --------------- 8.9/14.5 MB 1.2 MB/s eta 0:00:05\n",
      "   ------------------------ --------------- 9.0/14.5 MB 1.2 MB/s eta 0:00:05\n",
      "   ------------------------ --------------- 9.1/14.5 MB 1.2 MB/s eta 0:00:05\n",
      "   ------------------------- -------------- 9.2/14.5 MB 1.2 MB/s eta 0:00:05\n",
      "   ------------------------- -------------- 9.2/14.5 MB 1.2 MB/s eta 0:00:05\n",
      "   ------------------------- -------------- 9.3/14.5 MB 1.2 MB/s eta 0:00:05\n",
      "   ------------------------- -------------- 9.4/14.5 MB 1.2 MB/s eta 0:00:05\n",
      "   -------------------------- ------------- 9.5/14.5 MB 1.2 MB/s eta 0:00:05\n",
      "   -------------------------- ------------- 9.6/14.5 MB 1.2 MB/s eta 0:00:04\n",
      "   -------------------------- ------------- 9.7/14.5 MB 1.2 MB/s eta 0:00:04\n",
      "   -------------------------- ------------- 9.8/14.5 MB 1.2 MB/s eta 0:00:04\n",
      "   --------------------------- ------------ 9.9/14.5 MB 1.3 MB/s eta 0:00:04\n",
      "   --------------------------- ------------ 10.0/14.5 MB 1.3 MB/s eta 0:00:04\n",
      "   --------------------------- ------------ 10.0/14.5 MB 1.3 MB/s eta 0:00:04\n",
      "   --------------------------- ------------ 10.1/14.5 MB 1.3 MB/s eta 0:00:04\n",
      "   ---------------------------- ----------- 10.2/14.5 MB 1.3 MB/s eta 0:00:04\n",
      "   ---------------------------- ----------- 10.3/14.5 MB 1.3 MB/s eta 0:00:04\n",
      "   ---------------------------- ----------- 10.4/14.5 MB 1.3 MB/s eta 0:00:04\n",
      "   ---------------------------- ----------- 10.5/14.5 MB 1.3 MB/s eta 0:00:04\n",
      "   ----------------------------- ---------- 10.6/14.5 MB 1.3 MB/s eta 0:00:04\n",
      "   ----------------------------- ---------- 10.7/14.5 MB 1.3 MB/s eta 0:00:03\n",
      "   ----------------------------- ---------- 10.8/14.5 MB 1.3 MB/s eta 0:00:03\n",
      "   ----------------------------- ---------- 10.8/14.5 MB 1.3 MB/s eta 0:00:03\n",
      "   ------------------------------ --------- 10.9/14.5 MB 1.3 MB/s eta 0:00:03\n",
      "   ------------------------------ --------- 11.0/14.5 MB 1.3 MB/s eta 0:00:03\n",
      "   ------------------------------ --------- 11.1/14.5 MB 1.3 MB/s eta 0:00:03\n",
      "   ------------------------------ --------- 11.2/14.5 MB 1.3 MB/s eta 0:00:03\n",
      "   ------------------------------- -------- 11.3/14.5 MB 1.3 MB/s eta 0:00:03\n",
      "   ------------------------------- -------- 11.4/14.5 MB 1.3 MB/s eta 0:00:03\n",
      "   ------------------------------- -------- 11.5/14.5 MB 1.3 MB/s eta 0:00:03\n",
      "   ------------------------------- -------- 11.6/14.5 MB 1.3 MB/s eta 0:00:03\n",
      "   -------------------------------- ------- 11.7/14.5 MB 1.3 MB/s eta 0:00:03\n",
      "   -------------------------------- ------- 11.7/14.5 MB 1.3 MB/s eta 0:00:03\n",
      "   -------------------------------- ------- 11.8/14.5 MB 1.3 MB/s eta 0:00:02\n",
      "   -------------------------------- ------- 11.9/14.5 MB 1.4 MB/s eta 0:00:02\n",
      "   --------------------------------- ------ 12.0/14.5 MB 1.3 MB/s eta 0:00:02\n",
      "   --------------------------------- ------ 12.1/14.5 MB 1.4 MB/s eta 0:00:02\n",
      "   --------------------------------- ------ 12.2/14.5 MB 1.4 MB/s eta 0:00:02\n",
      "   --------------------------------- ------ 12.3/14.5 MB 1.4 MB/s eta 0:00:02\n",
      "   ---------------------------------- ----- 12.4/14.5 MB 1.4 MB/s eta 0:00:02\n",
      "   ---------------------------------- ----- 12.5/14.5 MB 1.4 MB/s eta 0:00:02\n",
      "   ---------------------------------- ----- 12.5/14.5 MB 1.4 MB/s eta 0:00:02\n",
      "   ---------------------------------- ----- 12.6/14.5 MB 1.4 MB/s eta 0:00:02\n",
      "   ----------------------------------- ---- 12.7/14.5 MB 1.4 MB/s eta 0:00:02\n",
      "   ----------------------------------- ---- 12.8/14.5 MB 1.4 MB/s eta 0:00:02\n",
      "   ----------------------------------- ---- 12.9/14.5 MB 1.4 MB/s eta 0:00:02\n",
      "   ----------------------------------- ---- 13.0/14.5 MB 1.4 MB/s eta 0:00:02\n",
      "   ------------------------------------ --- 13.1/14.5 MB 1.4 MB/s eta 0:00:01\n",
      "   ------------------------------------ --- 13.2/14.5 MB 1.4 MB/s eta 0:00:01\n",
      "   ------------------------------------ --- 13.3/14.5 MB 1.5 MB/s eta 0:00:01\n",
      "   ------------------------------------ --- 13.4/14.5 MB 1.5 MB/s eta 0:00:01\n",
      "   ------------------------------------- -- 13.4/14.5 MB 1.5 MB/s eta 0:00:01\n",
      "   ------------------------------------- -- 13.5/14.5 MB 1.5 MB/s eta 0:00:01\n",
      "   ------------------------------------- -- 13.6/14.5 MB 1.5 MB/s eta 0:00:01\n",
      "   ------------------------------------- -- 13.7/14.5 MB 1.5 MB/s eta 0:00:01\n",
      "   -------------------------------------- - 13.8/14.5 MB 1.5 MB/s eta 0:00:01\n",
      "   -------------------------------------- - 13.9/14.5 MB 1.5 MB/s eta 0:00:01\n",
      "   -------------------------------------- - 14.0/14.5 MB 1.6 MB/s eta 0:00:01\n",
      "   -------------------------------------- - 14.0/14.5 MB 1.5 MB/s eta 0:00:01\n",
      "   -------------------------------------- - 14.1/14.5 MB 1.6 MB/s eta 0:00:01\n",
      "   ---------------------------------------  14.2/14.5 MB 1.6 MB/s eta 0:00:01\n",
      "   ---------------------------------------  14.3/14.5 MB 1.6 MB/s eta 0:00:01\n",
      "   ---------------------------------------  14.4/14.5 MB 1.6 MB/s eta 0:00:01\n",
      "   ---------------------------------------  14.5/14.5 MB 1.6 MB/s eta 0:00:01\n",
      "   ---------------------------------------  14.5/14.5 MB 1.6 MB/s eta 0:00:01\n",
      "   ---------------------------------------- 14.5/14.5 MB 1.6 MB/s eta 0:00:00\n",
      "Installing collected packages: faiss-cpu\n",
      "Successfully installed faiss-cpu-1.8.0\n"
     ]
    }
   ],
   "source": [
    "!pip install -U langchain\n",
    "!pip install langchain-openai\n",
    "!pip install pypdf\n",
    "!pip install faiss-cpu"
   ]
  },
  {
   "cell_type": "code",
   "execution_count": 3,
   "id": "6442fdf2",
   "metadata": {},
   "outputs": [],
   "source": [
    "from langchain_openai import ChatOpenAI\n",
    "from langchain_core.prompts import ChatPromptTemplate\n",
    "from langchain_core.output_parsers import StrOutputParser\n",
    "from langchain_community.document_loaders import PyPDFLoader\n",
    "from langchain.text_splitter import RecursiveCharacterTextSplitter\n",
    "from langchain_openai import OpenAIEmbeddings\n",
    "from langchain_community.vectorstores import FAISS\n",
    "from langchain.chains.combine_documents import create_stuff_documents_chain\n",
    "from langchain.chains import create_retrieval_chain\n",
    "from langchain_core.documents import Document\n",
    "import os"
   ]
  },
  {
   "cell_type": "markdown",
   "id": "ef6771ba",
   "metadata": {},
   "source": [
    "## Generate Default Responses from Chat-GPT"
   ]
  },
  {
   "cell_type": "code",
   "execution_count": 37,
   "id": "93395f66",
   "metadata": {},
   "outputs": [],
   "source": [
    "openai_key = os.environ.get('OPENAI_KEY2')"
   ]
  },
  {
   "cell_type": "code",
   "execution_count": 38,
   "id": "ca0629fc",
   "metadata": {},
   "outputs": [],
   "source": [
    "llm = ChatOpenAI(\n",
    "    openai_api_key = openai_key ,\n",
    "    model = 'gpt-4',\n",
    "    temperature = 0.5\n",
    ")"
   ]
  },
  {
   "cell_type": "code",
   "execution_count": 39,
   "id": "b64c9d50",
   "metadata": {},
   "outputs": [
    {
     "name": "stdout",
     "output_type": "stream",
     "text": [
      "Why was the math book sad?\n",
      "\n",
      "Because it had too many problems!\n"
     ]
    }
   ],
   "source": [
    "result = llm.invoke(\"You are a comedian, tell a Joke about maths.\")\n",
    "print(result.content)"
   ]
  },
  {
   "cell_type": "code",
   "execution_count": 5,
   "id": "c3ad4f75",
   "metadata": {},
   "outputs": [],
   "source": [
    "prompt = ChatPromptTemplate.from_messages([\n",
    "    (\"system\", '{assistant}'),\n",
    "    (\"user\", \"{input}\")\n",
    "])"
   ]
  },
  {
   "cell_type": "code",
   "execution_count": 6,
   "id": "fe6e1ad1",
   "metadata": {},
   "outputs": [
    {
     "name": "stdout",
     "output_type": "stream",
     "text": [
      "Why was the math book sad?\n",
      "\n",
      "Because it had too many problems!\n"
     ]
    }
   ],
   "source": [
    "chain = prompt | llm \n",
    "\n",
    "result = chain.invoke(\n",
    "    {\"assistant\": \"You are a comedian\",\n",
    "     \"input\": \"Tell a joke about mathematics\"}\n",
    ")\n",
    "\n",
    "print(result.content)"
   ]
  },
  {
   "cell_type": "code",
   "execution_count": 7,
   "id": "d2585336",
   "metadata": {},
   "outputs": [
    {
     "name": "stdout",
     "output_type": "stream",
     "text": [
      "Why was the math book sad?\n",
      "\n",
      "Because it had too many problems!\n"
     ]
    }
   ],
   "source": [
    "output_parser = StrOutputParser()\n",
    "\n",
    "chain = prompt | llm | output_parser\n",
    "\n",
    "result = chain.invoke(\n",
    "    {\"assistant\": \"You are a comedian\",\n",
    "     \"input\": \"Tell a joke about mathematics\"}\n",
    ")\n",
    "print(result)"
   ]
  },
  {
   "cell_type": "code",
   "execution_count": 8,
   "id": "096cd751",
   "metadata": {},
   "outputs": [
    {
     "name": "stdout",
     "output_type": "stream",
     "text": [
      "I'm sorry, as an AI developed by OpenAI, I don't have real-time data or the ability to browse the internet. Therefore, I can't provide the current ticket prices for specific events such as the Paris Olympics 2024. I would recommend checking the official Olympics website or authorized ticket sellers for the most accurate and up-to-date information.\n"
     ]
    }
   ],
   "source": [
    "result = chain.invoke(\n",
    "    {\"assistant\": \"You are a ticket receptionist\",\n",
    "     \"input\": \"What is the lowest ticket price for tennis games in Paris Olympis 2024?\"})\n",
    "print(result)"
   ]
  },
  {
   "cell_type": "markdown",
   "id": "8c6b0890",
   "metadata": {},
   "source": [
    "## Augmented Chat-GPT Responses with RAG Using LangChain"
   ]
  },
  {
   "cell_type": "markdown",
   "id": "b716325d",
   "metadata": {},
   "source": [
    "### Splitting and Embedding Ticket Price Information Document"
   ]
  },
  {
   "cell_type": "code",
   "execution_count": 4,
   "id": "54aa3cc8",
   "metadata": {},
   "outputs": [],
   "source": [
    "loader = PyPDFLoader(\"https://tickets.paris2024.org/obj/media/FR-Paris2024/ticket-prices.pdf\")\n",
    "docs = loader.load_and_split()"
   ]
  },
  {
   "cell_type": "code",
   "execution_count": 45,
   "id": "adcaf8d9",
   "metadata": {},
   "outputs": [],
   "source": [
    "embeddings = OpenAIEmbeddings(openai_api_key = openai_key)"
   ]
  },
  {
   "cell_type": "code",
   "execution_count": 87,
   "id": "dc3d1180",
   "metadata": {},
   "outputs": [],
   "source": [
    "text_splitter = RecursiveCharacterTextSplitter()\n",
    "documents = text_splitter.split_documents(docs)\n",
    "vector = FAISS.from_documents(documents, embeddings)"
   ]
  },
  {
   "cell_type": "markdown",
   "id": "90f58c13",
   "metadata": {},
   "source": [
    "### Question Answering with Chatbot"
   ]
  },
  {
   "cell_type": "code",
   "execution_count": 92,
   "id": "70e80e3a",
   "metadata": {},
   "outputs": [],
   "source": [
    "prompt = ChatPromptTemplate.from_template(\"\"\"Answer the following question based only on the provided context:\n",
    "\n",
    "Question: {input}\n",
    "\n",
    "Context: {context}\n",
    "\"\"\"\n",
    ")\n",
    "\n",
    "document_chain = create_stuff_documents_chain(llm, prompt)"
   ]
  },
  {
   "cell_type": "code",
   "execution_count": 91,
   "id": "14ba6b75",
   "metadata": {},
   "outputs": [
    {
     "data": {
      "text/plain": [
       "'The lowest ticket price for tennis games in Paris Olympis 2024 is 10 euros.'"
      ]
     },
     "execution_count": 91,
     "metadata": {},
     "output_type": "execute_result"
    }
   ],
   "source": [
    "\n",
    "\n",
    "document_chain.invoke({\n",
    "    \"input\": \"What is the lowest ticket price for tennis games in Paris Olympis 2024?\",\n",
    "    \"context\": [Document(page_content = \"The ticket prices for tennis games are 15, 10, 25 euros\")]\n",
    "})"
   ]
  },
  {
   "cell_type": "code",
   "execution_count": 94,
   "id": "77e7f939",
   "metadata": {},
   "outputs": [],
   "source": [
    "retriever = vector.as_retriever()\n",
    "retrieval_chain = create_retrieval_chain(retriever, document_chain)"
   ]
  },
  {
   "cell_type": "code",
   "execution_count": 99,
   "id": "27bb9588",
   "metadata": {},
   "outputs": [],
   "source": [
    "def generate_response(query):\n",
    "    response = retrieval_chain.invoke({\"input\": query})\n",
    "    print(response[\"answer\"])"
   ]
  },
  {
   "cell_type": "code",
   "execution_count": 103,
   "id": "ae485e82",
   "metadata": {},
   "outputs": [
    {
     "name": "stdout",
     "output_type": "stream",
     "text": [
      "The lowest ticket price for tennis games is €30.\n"
     ]
    }
   ],
   "source": [
    "query = \"What is the lowest ticket price for tennis games?\"\n",
    "generate_response(query)\n"
   ]
  },
  {
   "cell_type": "code",
   "execution_count": 104,
   "id": "e8112129",
   "metadata": {},
   "outputs": [
    {
     "name": "stdout",
     "output_type": "stream",
     "text": [
      "The category for the lowest ticket price for tennis games is D.\n"
     ]
    }
   ],
   "source": [
    "query = \"What is the category for the lowest ticket price for tennis games?\"\n",
    "generate_response(query)"
   ]
  },
  {
   "cell_type": "code",
   "execution_count": 109,
   "id": "959ee994",
   "metadata": {},
   "outputs": [
    {
     "name": "stdout",
     "output_type": "stream",
     "text": [
      "The maximum price for category B for men's single tennis games for non-medal games is €185.\n"
     ]
    }
   ],
   "source": [
    "query = \"What is maximum price for category B for men's single tennis games for non-medal games?\"\n",
    "generate_response(query)"
   ]
  },
  {
   "cell_type": "code",
   "execution_count": null,
   "id": "db197ccf",
   "metadata": {},
   "outputs": [],
   "source": []
  }
 ],
 "metadata": {
  "kernelspec": {
   "display_name": "Python 3 (ipykernel)",
   "language": "python",
   "name": "python3"
  },
  "language_info": {
   "codemirror_mode": {
    "name": "ipython",
    "version": 3
   },
   "file_extension": ".py",
   "mimetype": "text/x-python",
   "name": "python",
   "nbconvert_exporter": "python",
   "pygments_lexer": "ipython3",
   "version": "3.11.5"
  }
 },
 "nbformat": 4,
 "nbformat_minor": 5
}
